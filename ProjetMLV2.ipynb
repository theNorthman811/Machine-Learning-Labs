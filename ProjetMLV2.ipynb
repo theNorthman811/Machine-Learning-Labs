{
  "cells": [
    {
      "cell_type": "code",
      "execution_count": 1,
      "metadata": {
        "id": "KXtMdqPjrVFh"
      },
      "outputs": [],
      "source": [
        "import os\n",
        "import pandas as pd\n",
        "import numpy as np\n",
        "import matplotlib.pyplot as plt"
      ]
    },
    {
      "cell_type": "code",
      "execution_count": 2,
      "metadata": {
        "id": "v83Tu7n64D5l"
      },
      "outputs": [],
      "source": [
        "import seaborn as sns"
      ]
    },
    {
      "cell_type": "code",
      "execution_count": 3,
      "metadata": {
        "colab": {
          "base_uri": "https://localhost:8080/"
        },
        "id": "lobHCFH_rib2",
        "outputId": "172007b9-6e26-4b69-eda4-703b4a63da34"
      },
      "outputs": [
        {
          "output_type": "stream",
          "name": "stderr",
          "text": [
            "<ipython-input-3-29dc09e052be>:1: FutureWarning: The error_bad_lines argument has been deprecated and will be removed in a future version. Use on_bad_lines in the future.\n",
            "\n",
            "\n",
            "  df = pd.read_csv(\"books.csv\",  error_bad_lines = False)\n",
            "Skipping line 4012: expected 10 fields, saw 11\n",
            "Skipping line 5688: expected 10 fields, saw 11\n",
            "Skipping line 7056: expected 10 fields, saw 11\n",
            "Skipping line 10601: expected 10 fields, saw 11\n",
            "Skipping line 10668: expected 10 fields, saw 11\n",
            "\n"
          ]
        }
      ],
      "source": [
        "df = pd.read_csv(\"books.csv\",  error_bad_lines = False)"
      ]
    },
    {
      "cell_type": "code",
      "source": [
        "df"
      ],
      "metadata": {
        "colab": {
          "base_uri": "https://localhost:8080/",
          "height": 1000
        },
        "id": "qIf604MKDWvY",
        "outputId": "1b6c9cac-45fd-44c3-8fde-9f6b9bf61c06"
      },
      "execution_count": null,
      "outputs": [
        {
          "output_type": "execute_result",
          "data": {
            "text/plain": [
              "       bookID                                              title  \\\n",
              "0           1  Harry Potter and the Half-Blood Prince (Harry ...   \n",
              "1           2  Harry Potter and the Order of the Phoenix (Har...   \n",
              "2           3  Harry Potter and the Sorcerer's Stone (Harry P...   \n",
              "3           4  Harry Potter and the Chamber of Secrets (Harry...   \n",
              "4           5  Harry Potter and the Prisoner of Azkaban (Harr...   \n",
              "...       ...                                                ...   \n",
              "13709   47699                                     M Is for Magic   \n",
              "13710   47700                                       Black Orchid   \n",
              "13711   47701                        InterWorld (InterWorld  #1)   \n",
              "13712   47708                                The Faeries' Oracle   \n",
              "13713   47709                      The World of The Dark Crystal   \n",
              "\n",
              "                             authors  average_rating        isbn  \\\n",
              "0         J.K. Rowling-Mary GrandPré            4.56  0439785960   \n",
              "1         J.K. Rowling-Mary GrandPré            4.49  0439358078   \n",
              "2         J.K. Rowling-Mary GrandPré            4.47  0439554934   \n",
              "3                       J.K. Rowling            4.41  0439554896   \n",
              "4         J.K. Rowling-Mary GrandPré            4.55  043965548X   \n",
              "...                              ...             ...         ...   \n",
              "13709  Neil Gaiman-Teddy Kristiansen            3.82  0061186422   \n",
              "13710        Neil Gaiman-Dave McKean            3.72  0930289552   \n",
              "13711     Neil Gaiman-Michael Reaves            3.53  0061238961   \n",
              "13712    Brian Froud-Jessica Macbeth            4.43  0743201116   \n",
              "13713                    Brian Froud            4.29  1862056242   \n",
              "\n",
              "              isbn13 language_code  # num_pages  ratings_count  \\\n",
              "0      9780439785969           eng          652        1944099   \n",
              "1      9780439358071           eng          870        1996446   \n",
              "2      9780439554930           eng          320        5629932   \n",
              "3      9780439554893           eng          352           6267   \n",
              "4      9780439655484           eng          435        2149872   \n",
              "...              ...           ...          ...            ...   \n",
              "13709  9780061186424           eng          260          11317   \n",
              "13710  9780930289553           eng          160           8710   \n",
              "13711  9780061238963         en-US          239          14334   \n",
              "13712  9780743201117           eng          224           1550   \n",
              "13713  9781862056244           eng          132           3572   \n",
              "\n",
              "       text_reviews_count  \n",
              "0                   26249  \n",
              "1                   27613  \n",
              "2                   70390  \n",
              "3                     272  \n",
              "4                   33964  \n",
              "...                   ...  \n",
              "13709                1060  \n",
              "13710                 361  \n",
              "13711                1485  \n",
              "13712                  38  \n",
              "13713                  33  \n",
              "\n",
              "[13714 rows x 10 columns]"
            ],
            "text/html": [
              "\n",
              "  <div id=\"df-80082553-29cf-4d2a-9d47-92bf29b351df\" class=\"colab-df-container\">\n",
              "    <div>\n",
              "<style scoped>\n",
              "    .dataframe tbody tr th:only-of-type {\n",
              "        vertical-align: middle;\n",
              "    }\n",
              "\n",
              "    .dataframe tbody tr th {\n",
              "        vertical-align: top;\n",
              "    }\n",
              "\n",
              "    .dataframe thead th {\n",
              "        text-align: right;\n",
              "    }\n",
              "</style>\n",
              "<table border=\"1\" class=\"dataframe\">\n",
              "  <thead>\n",
              "    <tr style=\"text-align: right;\">\n",
              "      <th></th>\n",
              "      <th>bookID</th>\n",
              "      <th>title</th>\n",
              "      <th>authors</th>\n",
              "      <th>average_rating</th>\n",
              "      <th>isbn</th>\n",
              "      <th>isbn13</th>\n",
              "      <th>language_code</th>\n",
              "      <th># num_pages</th>\n",
              "      <th>ratings_count</th>\n",
              "      <th>text_reviews_count</th>\n",
              "    </tr>\n",
              "  </thead>\n",
              "  <tbody>\n",
              "    <tr>\n",
              "      <th>0</th>\n",
              "      <td>1</td>\n",
              "      <td>Harry Potter and the Half-Blood Prince (Harry ...</td>\n",
              "      <td>J.K. Rowling-Mary GrandPré</td>\n",
              "      <td>4.56</td>\n",
              "      <td>0439785960</td>\n",
              "      <td>9780439785969</td>\n",
              "      <td>eng</td>\n",
              "      <td>652</td>\n",
              "      <td>1944099</td>\n",
              "      <td>26249</td>\n",
              "    </tr>\n",
              "    <tr>\n",
              "      <th>1</th>\n",
              "      <td>2</td>\n",
              "      <td>Harry Potter and the Order of the Phoenix (Har...</td>\n",
              "      <td>J.K. Rowling-Mary GrandPré</td>\n",
              "      <td>4.49</td>\n",
              "      <td>0439358078</td>\n",
              "      <td>9780439358071</td>\n",
              "      <td>eng</td>\n",
              "      <td>870</td>\n",
              "      <td>1996446</td>\n",
              "      <td>27613</td>\n",
              "    </tr>\n",
              "    <tr>\n",
              "      <th>2</th>\n",
              "      <td>3</td>\n",
              "      <td>Harry Potter and the Sorcerer's Stone (Harry P...</td>\n",
              "      <td>J.K. Rowling-Mary GrandPré</td>\n",
              "      <td>4.47</td>\n",
              "      <td>0439554934</td>\n",
              "      <td>9780439554930</td>\n",
              "      <td>eng</td>\n",
              "      <td>320</td>\n",
              "      <td>5629932</td>\n",
              "      <td>70390</td>\n",
              "    </tr>\n",
              "    <tr>\n",
              "      <th>3</th>\n",
              "      <td>4</td>\n",
              "      <td>Harry Potter and the Chamber of Secrets (Harry...</td>\n",
              "      <td>J.K. Rowling</td>\n",
              "      <td>4.41</td>\n",
              "      <td>0439554896</td>\n",
              "      <td>9780439554893</td>\n",
              "      <td>eng</td>\n",
              "      <td>352</td>\n",
              "      <td>6267</td>\n",
              "      <td>272</td>\n",
              "    </tr>\n",
              "    <tr>\n",
              "      <th>4</th>\n",
              "      <td>5</td>\n",
              "      <td>Harry Potter and the Prisoner of Azkaban (Harr...</td>\n",
              "      <td>J.K. Rowling-Mary GrandPré</td>\n",
              "      <td>4.55</td>\n",
              "      <td>043965548X</td>\n",
              "      <td>9780439655484</td>\n",
              "      <td>eng</td>\n",
              "      <td>435</td>\n",
              "      <td>2149872</td>\n",
              "      <td>33964</td>\n",
              "    </tr>\n",
              "    <tr>\n",
              "      <th>...</th>\n",
              "      <td>...</td>\n",
              "      <td>...</td>\n",
              "      <td>...</td>\n",
              "      <td>...</td>\n",
              "      <td>...</td>\n",
              "      <td>...</td>\n",
              "      <td>...</td>\n",
              "      <td>...</td>\n",
              "      <td>...</td>\n",
              "      <td>...</td>\n",
              "    </tr>\n",
              "    <tr>\n",
              "      <th>13709</th>\n",
              "      <td>47699</td>\n",
              "      <td>M Is for Magic</td>\n",
              "      <td>Neil Gaiman-Teddy Kristiansen</td>\n",
              "      <td>3.82</td>\n",
              "      <td>0061186422</td>\n",
              "      <td>9780061186424</td>\n",
              "      <td>eng</td>\n",
              "      <td>260</td>\n",
              "      <td>11317</td>\n",
              "      <td>1060</td>\n",
              "    </tr>\n",
              "    <tr>\n",
              "      <th>13710</th>\n",
              "      <td>47700</td>\n",
              "      <td>Black Orchid</td>\n",
              "      <td>Neil Gaiman-Dave McKean</td>\n",
              "      <td>3.72</td>\n",
              "      <td>0930289552</td>\n",
              "      <td>9780930289553</td>\n",
              "      <td>eng</td>\n",
              "      <td>160</td>\n",
              "      <td>8710</td>\n",
              "      <td>361</td>\n",
              "    </tr>\n",
              "    <tr>\n",
              "      <th>13711</th>\n",
              "      <td>47701</td>\n",
              "      <td>InterWorld (InterWorld  #1)</td>\n",
              "      <td>Neil Gaiman-Michael Reaves</td>\n",
              "      <td>3.53</td>\n",
              "      <td>0061238961</td>\n",
              "      <td>9780061238963</td>\n",
              "      <td>en-US</td>\n",
              "      <td>239</td>\n",
              "      <td>14334</td>\n",
              "      <td>1485</td>\n",
              "    </tr>\n",
              "    <tr>\n",
              "      <th>13712</th>\n",
              "      <td>47708</td>\n",
              "      <td>The Faeries' Oracle</td>\n",
              "      <td>Brian Froud-Jessica Macbeth</td>\n",
              "      <td>4.43</td>\n",
              "      <td>0743201116</td>\n",
              "      <td>9780743201117</td>\n",
              "      <td>eng</td>\n",
              "      <td>224</td>\n",
              "      <td>1550</td>\n",
              "      <td>38</td>\n",
              "    </tr>\n",
              "    <tr>\n",
              "      <th>13713</th>\n",
              "      <td>47709</td>\n",
              "      <td>The World of The Dark Crystal</td>\n",
              "      <td>Brian Froud</td>\n",
              "      <td>4.29</td>\n",
              "      <td>1862056242</td>\n",
              "      <td>9781862056244</td>\n",
              "      <td>eng</td>\n",
              "      <td>132</td>\n",
              "      <td>3572</td>\n",
              "      <td>33</td>\n",
              "    </tr>\n",
              "  </tbody>\n",
              "</table>\n",
              "<p>13714 rows × 10 columns</p>\n",
              "</div>\n",
              "    <div class=\"colab-df-buttons\">\n",
              "\n",
              "  <div class=\"colab-df-container\">\n",
              "    <button class=\"colab-df-convert\" onclick=\"convertToInteractive('df-80082553-29cf-4d2a-9d47-92bf29b351df')\"\n",
              "            title=\"Convert this dataframe to an interactive table.\"\n",
              "            style=\"display:none;\">\n",
              "\n",
              "  <svg xmlns=\"http://www.w3.org/2000/svg\" height=\"24px\" viewBox=\"0 -960 960 960\">\n",
              "    <path d=\"M120-120v-720h720v720H120Zm60-500h600v-160H180v160Zm220 220h160v-160H400v160Zm0 220h160v-160H400v160ZM180-400h160v-160H180v160Zm440 0h160v-160H620v160ZM180-180h160v-160H180v160Zm440 0h160v-160H620v160Z\"/>\n",
              "  </svg>\n",
              "    </button>\n",
              "\n",
              "  <style>\n",
              "    .colab-df-container {\n",
              "      display:flex;\n",
              "      gap: 12px;\n",
              "    }\n",
              "\n",
              "    .colab-df-convert {\n",
              "      background-color: #E8F0FE;\n",
              "      border: none;\n",
              "      border-radius: 50%;\n",
              "      cursor: pointer;\n",
              "      display: none;\n",
              "      fill: #1967D2;\n",
              "      height: 32px;\n",
              "      padding: 0 0 0 0;\n",
              "      width: 32px;\n",
              "    }\n",
              "\n",
              "    .colab-df-convert:hover {\n",
              "      background-color: #E2EBFA;\n",
              "      box-shadow: 0px 1px 2px rgba(60, 64, 67, 0.3), 0px 1px 3px 1px rgba(60, 64, 67, 0.15);\n",
              "      fill: #174EA6;\n",
              "    }\n",
              "\n",
              "    .colab-df-buttons div {\n",
              "      margin-bottom: 4px;\n",
              "    }\n",
              "\n",
              "    [theme=dark] .colab-df-convert {\n",
              "      background-color: #3B4455;\n",
              "      fill: #D2E3FC;\n",
              "    }\n",
              "\n",
              "    [theme=dark] .colab-df-convert:hover {\n",
              "      background-color: #434B5C;\n",
              "      box-shadow: 0px 1px 3px 1px rgba(0, 0, 0, 0.15);\n",
              "      filter: drop-shadow(0px 1px 2px rgba(0, 0, 0, 0.3));\n",
              "      fill: #FFFFFF;\n",
              "    }\n",
              "  </style>\n",
              "\n",
              "    <script>\n",
              "      const buttonEl =\n",
              "        document.querySelector('#df-80082553-29cf-4d2a-9d47-92bf29b351df button.colab-df-convert');\n",
              "      buttonEl.style.display =\n",
              "        google.colab.kernel.accessAllowed ? 'block' : 'none';\n",
              "\n",
              "      async function convertToInteractive(key) {\n",
              "        const element = document.querySelector('#df-80082553-29cf-4d2a-9d47-92bf29b351df');\n",
              "        const dataTable =\n",
              "          await google.colab.kernel.invokeFunction('convertToInteractive',\n",
              "                                                    [key], {});\n",
              "        if (!dataTable) return;\n",
              "\n",
              "        const docLinkHtml = 'Like what you see? Visit the ' +\n",
              "          '<a target=\"_blank\" href=https://colab.research.google.com/notebooks/data_table.ipynb>data table notebook</a>'\n",
              "          + ' to learn more about interactive tables.';\n",
              "        element.innerHTML = '';\n",
              "        dataTable['output_type'] = 'display_data';\n",
              "        await google.colab.output.renderOutput(dataTable, element);\n",
              "        const docLink = document.createElement('div');\n",
              "        docLink.innerHTML = docLinkHtml;\n",
              "        element.appendChild(docLink);\n",
              "      }\n",
              "    </script>\n",
              "  </div>\n",
              "\n",
              "\n",
              "<div id=\"df-7490d241-fd2a-405b-b9c2-4d505b8d6ea1\">\n",
              "  <button class=\"colab-df-quickchart\" onclick=\"quickchart('df-7490d241-fd2a-405b-b9c2-4d505b8d6ea1')\"\n",
              "            title=\"Suggest charts\"\n",
              "            style=\"display:none;\">\n",
              "\n",
              "<svg xmlns=\"http://www.w3.org/2000/svg\" height=\"24px\"viewBox=\"0 0 24 24\"\n",
              "     width=\"24px\">\n",
              "    <g>\n",
              "        <path d=\"M19 3H5c-1.1 0-2 .9-2 2v14c0 1.1.9 2 2 2h14c1.1 0 2-.9 2-2V5c0-1.1-.9-2-2-2zM9 17H7v-7h2v7zm4 0h-2V7h2v10zm4 0h-2v-4h2v4z\"/>\n",
              "    </g>\n",
              "</svg>\n",
              "  </button>\n",
              "\n",
              "<style>\n",
              "  .colab-df-quickchart {\n",
              "      --bg-color: #E8F0FE;\n",
              "      --fill-color: #1967D2;\n",
              "      --hover-bg-color: #E2EBFA;\n",
              "      --hover-fill-color: #174EA6;\n",
              "      --disabled-fill-color: #AAA;\n",
              "      --disabled-bg-color: #DDD;\n",
              "  }\n",
              "\n",
              "  [theme=dark] .colab-df-quickchart {\n",
              "      --bg-color: #3B4455;\n",
              "      --fill-color: #D2E3FC;\n",
              "      --hover-bg-color: #434B5C;\n",
              "      --hover-fill-color: #FFFFFF;\n",
              "      --disabled-bg-color: #3B4455;\n",
              "      --disabled-fill-color: #666;\n",
              "  }\n",
              "\n",
              "  .colab-df-quickchart {\n",
              "    background-color: var(--bg-color);\n",
              "    border: none;\n",
              "    border-radius: 50%;\n",
              "    cursor: pointer;\n",
              "    display: none;\n",
              "    fill: var(--fill-color);\n",
              "    height: 32px;\n",
              "    padding: 0;\n",
              "    width: 32px;\n",
              "  }\n",
              "\n",
              "  .colab-df-quickchart:hover {\n",
              "    background-color: var(--hover-bg-color);\n",
              "    box-shadow: 0 1px 2px rgba(60, 64, 67, 0.3), 0 1px 3px 1px rgba(60, 64, 67, 0.15);\n",
              "    fill: var(--button-hover-fill-color);\n",
              "  }\n",
              "\n",
              "  .colab-df-quickchart-complete:disabled,\n",
              "  .colab-df-quickchart-complete:disabled:hover {\n",
              "    background-color: var(--disabled-bg-color);\n",
              "    fill: var(--disabled-fill-color);\n",
              "    box-shadow: none;\n",
              "  }\n",
              "\n",
              "  .colab-df-spinner {\n",
              "    border: 2px solid var(--fill-color);\n",
              "    border-color: transparent;\n",
              "    border-bottom-color: var(--fill-color);\n",
              "    animation:\n",
              "      spin 1s steps(1) infinite;\n",
              "  }\n",
              "\n",
              "  @keyframes spin {\n",
              "    0% {\n",
              "      border-color: transparent;\n",
              "      border-bottom-color: var(--fill-color);\n",
              "      border-left-color: var(--fill-color);\n",
              "    }\n",
              "    20% {\n",
              "      border-color: transparent;\n",
              "      border-left-color: var(--fill-color);\n",
              "      border-top-color: var(--fill-color);\n",
              "    }\n",
              "    30% {\n",
              "      border-color: transparent;\n",
              "      border-left-color: var(--fill-color);\n",
              "      border-top-color: var(--fill-color);\n",
              "      border-right-color: var(--fill-color);\n",
              "    }\n",
              "    40% {\n",
              "      border-color: transparent;\n",
              "      border-right-color: var(--fill-color);\n",
              "      border-top-color: var(--fill-color);\n",
              "    }\n",
              "    60% {\n",
              "      border-color: transparent;\n",
              "      border-right-color: var(--fill-color);\n",
              "    }\n",
              "    80% {\n",
              "      border-color: transparent;\n",
              "      border-right-color: var(--fill-color);\n",
              "      border-bottom-color: var(--fill-color);\n",
              "    }\n",
              "    90% {\n",
              "      border-color: transparent;\n",
              "      border-bottom-color: var(--fill-color);\n",
              "    }\n",
              "  }\n",
              "</style>\n",
              "\n",
              "  <script>\n",
              "    async function quickchart(key) {\n",
              "      const quickchartButtonEl =\n",
              "        document.querySelector('#' + key + ' button');\n",
              "      quickchartButtonEl.disabled = true;  // To prevent multiple clicks.\n",
              "      quickchartButtonEl.classList.add('colab-df-spinner');\n",
              "      try {\n",
              "        const charts = await google.colab.kernel.invokeFunction(\n",
              "            'suggestCharts', [key], {});\n",
              "      } catch (error) {\n",
              "        console.error('Error during call to suggestCharts:', error);\n",
              "      }\n",
              "      quickchartButtonEl.classList.remove('colab-df-spinner');\n",
              "      quickchartButtonEl.classList.add('colab-df-quickchart-complete');\n",
              "    }\n",
              "    (() => {\n",
              "      let quickchartButtonEl =\n",
              "        document.querySelector('#df-7490d241-fd2a-405b-b9c2-4d505b8d6ea1 button');\n",
              "      quickchartButtonEl.style.display =\n",
              "        google.colab.kernel.accessAllowed ? 'block' : 'none';\n",
              "    })();\n",
              "  </script>\n",
              "</div>\n",
              "    </div>\n",
              "  </div>\n"
            ]
          },
          "metadata": {},
          "execution_count": 7
        }
      ]
    },
    {
      "cell_type": "code",
      "execution_count": null,
      "metadata": {
        "id": "4EmFjFigyd3q"
      },
      "outputs": [],
      "source": [
        "\n",
        "def check_completion(data):\n",
        "\n",
        "    var_dict = {}\n",
        "\n",
        "    for col in data.columns:\n",
        "        var_dict[col] = []\n",
        "        var_dict[col].append(round((data[col].notna().sum()/data.shape[0])*100,2))\n",
        "        var_dict[col].append(data[col].isna().sum())\n",
        "\n",
        "    return pd.DataFrame.from_dict(data=var_dict, orient=\"index\", columns = [\"Taux de complétion\", \"Nombre de valeurs manquantes\"]).sort_values(by=\"Taux de complétion\",ascending=False )"
      ]
    },
    {
      "cell_type": "code",
      "execution_count": null,
      "metadata": {
        "colab": {
          "base_uri": "https://localhost:8080/",
          "height": 394
        },
        "id": "yEI6X6oo3zHx",
        "outputId": "f6da4b54-3cf3-4cf9-8ce3-f5edf473b629"
      },
      "outputs": [
        {
          "output_type": "execute_result",
          "data": {
            "text/plain": [
              "                    Taux de complétion  Nombre de valeurs manquantes\n",
              "bookID                           100.0                             0\n",
              "title                            100.0                             0\n",
              "authors                          100.0                             0\n",
              "average_rating                   100.0                             0\n",
              "isbn                             100.0                             0\n",
              "isbn13                           100.0                             0\n",
              "language_code                    100.0                             0\n",
              "# num_pages                      100.0                             0\n",
              "ratings_count                    100.0                             0\n",
              "text_reviews_count               100.0                             0\n",
              "class                            100.0                             0"
            ],
            "text/html": [
              "\n",
              "  <div id=\"df-71dc8beb-1679-4bbf-ab2f-dc8503d5d4b0\" class=\"colab-df-container\">\n",
              "    <div>\n",
              "<style scoped>\n",
              "    .dataframe tbody tr th:only-of-type {\n",
              "        vertical-align: middle;\n",
              "    }\n",
              "\n",
              "    .dataframe tbody tr th {\n",
              "        vertical-align: top;\n",
              "    }\n",
              "\n",
              "    .dataframe thead th {\n",
              "        text-align: right;\n",
              "    }\n",
              "</style>\n",
              "<table border=\"1\" class=\"dataframe\">\n",
              "  <thead>\n",
              "    <tr style=\"text-align: right;\">\n",
              "      <th></th>\n",
              "      <th>Taux de complétion</th>\n",
              "      <th>Nombre de valeurs manquantes</th>\n",
              "    </tr>\n",
              "  </thead>\n",
              "  <tbody>\n",
              "    <tr>\n",
              "      <th>bookID</th>\n",
              "      <td>100.0</td>\n",
              "      <td>0</td>\n",
              "    </tr>\n",
              "    <tr>\n",
              "      <th>title</th>\n",
              "      <td>100.0</td>\n",
              "      <td>0</td>\n",
              "    </tr>\n",
              "    <tr>\n",
              "      <th>authors</th>\n",
              "      <td>100.0</td>\n",
              "      <td>0</td>\n",
              "    </tr>\n",
              "    <tr>\n",
              "      <th>average_rating</th>\n",
              "      <td>100.0</td>\n",
              "      <td>0</td>\n",
              "    </tr>\n",
              "    <tr>\n",
              "      <th>isbn</th>\n",
              "      <td>100.0</td>\n",
              "      <td>0</td>\n",
              "    </tr>\n",
              "    <tr>\n",
              "      <th>isbn13</th>\n",
              "      <td>100.0</td>\n",
              "      <td>0</td>\n",
              "    </tr>\n",
              "    <tr>\n",
              "      <th>language_code</th>\n",
              "      <td>100.0</td>\n",
              "      <td>0</td>\n",
              "    </tr>\n",
              "    <tr>\n",
              "      <th># num_pages</th>\n",
              "      <td>100.0</td>\n",
              "      <td>0</td>\n",
              "    </tr>\n",
              "    <tr>\n",
              "      <th>ratings_count</th>\n",
              "      <td>100.0</td>\n",
              "      <td>0</td>\n",
              "    </tr>\n",
              "    <tr>\n",
              "      <th>text_reviews_count</th>\n",
              "      <td>100.0</td>\n",
              "      <td>0</td>\n",
              "    </tr>\n",
              "    <tr>\n",
              "      <th>class</th>\n",
              "      <td>100.0</td>\n",
              "      <td>0</td>\n",
              "    </tr>\n",
              "  </tbody>\n",
              "</table>\n",
              "</div>\n",
              "    <div class=\"colab-df-buttons\">\n",
              "\n",
              "  <div class=\"colab-df-container\">\n",
              "    <button class=\"colab-df-convert\" onclick=\"convertToInteractive('df-71dc8beb-1679-4bbf-ab2f-dc8503d5d4b0')\"\n",
              "            title=\"Convert this dataframe to an interactive table.\"\n",
              "            style=\"display:none;\">\n",
              "\n",
              "  <svg xmlns=\"http://www.w3.org/2000/svg\" height=\"24px\" viewBox=\"0 -960 960 960\">\n",
              "    <path d=\"M120-120v-720h720v720H120Zm60-500h600v-160H180v160Zm220 220h160v-160H400v160Zm0 220h160v-160H400v160ZM180-400h160v-160H180v160Zm440 0h160v-160H620v160ZM180-180h160v-160H180v160Zm440 0h160v-160H620v160Z\"/>\n",
              "  </svg>\n",
              "    </button>\n",
              "\n",
              "  <style>\n",
              "    .colab-df-container {\n",
              "      display:flex;\n",
              "      gap: 12px;\n",
              "    }\n",
              "\n",
              "    .colab-df-convert {\n",
              "      background-color: #E8F0FE;\n",
              "      border: none;\n",
              "      border-radius: 50%;\n",
              "      cursor: pointer;\n",
              "      display: none;\n",
              "      fill: #1967D2;\n",
              "      height: 32px;\n",
              "      padding: 0 0 0 0;\n",
              "      width: 32px;\n",
              "    }\n",
              "\n",
              "    .colab-df-convert:hover {\n",
              "      background-color: #E2EBFA;\n",
              "      box-shadow: 0px 1px 2px rgba(60, 64, 67, 0.3), 0px 1px 3px 1px rgba(60, 64, 67, 0.15);\n",
              "      fill: #174EA6;\n",
              "    }\n",
              "\n",
              "    .colab-df-buttons div {\n",
              "      margin-bottom: 4px;\n",
              "    }\n",
              "\n",
              "    [theme=dark] .colab-df-convert {\n",
              "      background-color: #3B4455;\n",
              "      fill: #D2E3FC;\n",
              "    }\n",
              "\n",
              "    [theme=dark] .colab-df-convert:hover {\n",
              "      background-color: #434B5C;\n",
              "      box-shadow: 0px 1px 3px 1px rgba(0, 0, 0, 0.15);\n",
              "      filter: drop-shadow(0px 1px 2px rgba(0, 0, 0, 0.3));\n",
              "      fill: #FFFFFF;\n",
              "    }\n",
              "  </style>\n",
              "\n",
              "    <script>\n",
              "      const buttonEl =\n",
              "        document.querySelector('#df-71dc8beb-1679-4bbf-ab2f-dc8503d5d4b0 button.colab-df-convert');\n",
              "      buttonEl.style.display =\n",
              "        google.colab.kernel.accessAllowed ? 'block' : 'none';\n",
              "\n",
              "      async function convertToInteractive(key) {\n",
              "        const element = document.querySelector('#df-71dc8beb-1679-4bbf-ab2f-dc8503d5d4b0');\n",
              "        const dataTable =\n",
              "          await google.colab.kernel.invokeFunction('convertToInteractive',\n",
              "                                                    [key], {});\n",
              "        if (!dataTable) return;\n",
              "\n",
              "        const docLinkHtml = 'Like what you see? Visit the ' +\n",
              "          '<a target=\"_blank\" href=https://colab.research.google.com/notebooks/data_table.ipynb>data table notebook</a>'\n",
              "          + ' to learn more about interactive tables.';\n",
              "        element.innerHTML = '';\n",
              "        dataTable['output_type'] = 'display_data';\n",
              "        await google.colab.output.renderOutput(dataTable, element);\n",
              "        const docLink = document.createElement('div');\n",
              "        docLink.innerHTML = docLinkHtml;\n",
              "        element.appendChild(docLink);\n",
              "      }\n",
              "    </script>\n",
              "  </div>\n",
              "\n",
              "\n",
              "<div id=\"df-8aab2755-a2a7-454a-a003-4823e9460d48\">\n",
              "  <button class=\"colab-df-quickchart\" onclick=\"quickchart('df-8aab2755-a2a7-454a-a003-4823e9460d48')\"\n",
              "            title=\"Suggest charts\"\n",
              "            style=\"display:none;\">\n",
              "\n",
              "<svg xmlns=\"http://www.w3.org/2000/svg\" height=\"24px\"viewBox=\"0 0 24 24\"\n",
              "     width=\"24px\">\n",
              "    <g>\n",
              "        <path d=\"M19 3H5c-1.1 0-2 .9-2 2v14c0 1.1.9 2 2 2h14c1.1 0 2-.9 2-2V5c0-1.1-.9-2-2-2zM9 17H7v-7h2v7zm4 0h-2V7h2v10zm4 0h-2v-4h2v4z\"/>\n",
              "    </g>\n",
              "</svg>\n",
              "  </button>\n",
              "\n",
              "<style>\n",
              "  .colab-df-quickchart {\n",
              "      --bg-color: #E8F0FE;\n",
              "      --fill-color: #1967D2;\n",
              "      --hover-bg-color: #E2EBFA;\n",
              "      --hover-fill-color: #174EA6;\n",
              "      --disabled-fill-color: #AAA;\n",
              "      --disabled-bg-color: #DDD;\n",
              "  }\n",
              "\n",
              "  [theme=dark] .colab-df-quickchart {\n",
              "      --bg-color: #3B4455;\n",
              "      --fill-color: #D2E3FC;\n",
              "      --hover-bg-color: #434B5C;\n",
              "      --hover-fill-color: #FFFFFF;\n",
              "      --disabled-bg-color: #3B4455;\n",
              "      --disabled-fill-color: #666;\n",
              "  }\n",
              "\n",
              "  .colab-df-quickchart {\n",
              "    background-color: var(--bg-color);\n",
              "    border: none;\n",
              "    border-radius: 50%;\n",
              "    cursor: pointer;\n",
              "    display: none;\n",
              "    fill: var(--fill-color);\n",
              "    height: 32px;\n",
              "    padding: 0;\n",
              "    width: 32px;\n",
              "  }\n",
              "\n",
              "  .colab-df-quickchart:hover {\n",
              "    background-color: var(--hover-bg-color);\n",
              "    box-shadow: 0 1px 2px rgba(60, 64, 67, 0.3), 0 1px 3px 1px rgba(60, 64, 67, 0.15);\n",
              "    fill: var(--button-hover-fill-color);\n",
              "  }\n",
              "\n",
              "  .colab-df-quickchart-complete:disabled,\n",
              "  .colab-df-quickchart-complete:disabled:hover {\n",
              "    background-color: var(--disabled-bg-color);\n",
              "    fill: var(--disabled-fill-color);\n",
              "    box-shadow: none;\n",
              "  }\n",
              "\n",
              "  .colab-df-spinner {\n",
              "    border: 2px solid var(--fill-color);\n",
              "    border-color: transparent;\n",
              "    border-bottom-color: var(--fill-color);\n",
              "    animation:\n",
              "      spin 1s steps(1) infinite;\n",
              "  }\n",
              "\n",
              "  @keyframes spin {\n",
              "    0% {\n",
              "      border-color: transparent;\n",
              "      border-bottom-color: var(--fill-color);\n",
              "      border-left-color: var(--fill-color);\n",
              "    }\n",
              "    20% {\n",
              "      border-color: transparent;\n",
              "      border-left-color: var(--fill-color);\n",
              "      border-top-color: var(--fill-color);\n",
              "    }\n",
              "    30% {\n",
              "      border-color: transparent;\n",
              "      border-left-color: var(--fill-color);\n",
              "      border-top-color: var(--fill-color);\n",
              "      border-right-color: var(--fill-color);\n",
              "    }\n",
              "    40% {\n",
              "      border-color: transparent;\n",
              "      border-right-color: var(--fill-color);\n",
              "      border-top-color: var(--fill-color);\n",
              "    }\n",
              "    60% {\n",
              "      border-color: transparent;\n",
              "      border-right-color: var(--fill-color);\n",
              "    }\n",
              "    80% {\n",
              "      border-color: transparent;\n",
              "      border-right-color: var(--fill-color);\n",
              "      border-bottom-color: var(--fill-color);\n",
              "    }\n",
              "    90% {\n",
              "      border-color: transparent;\n",
              "      border-bottom-color: var(--fill-color);\n",
              "    }\n",
              "  }\n",
              "</style>\n",
              "\n",
              "  <script>\n",
              "    async function quickchart(key) {\n",
              "      const quickchartButtonEl =\n",
              "        document.querySelector('#' + key + ' button');\n",
              "      quickchartButtonEl.disabled = true;  // To prevent multiple clicks.\n",
              "      quickchartButtonEl.classList.add('colab-df-spinner');\n",
              "      try {\n",
              "        const charts = await google.colab.kernel.invokeFunction(\n",
              "            'suggestCharts', [key], {});\n",
              "      } catch (error) {\n",
              "        console.error('Error during call to suggestCharts:', error);\n",
              "      }\n",
              "      quickchartButtonEl.classList.remove('colab-df-spinner');\n",
              "      quickchartButtonEl.classList.add('colab-df-quickchart-complete');\n",
              "    }\n",
              "    (() => {\n",
              "      let quickchartButtonEl =\n",
              "        document.querySelector('#df-8aab2755-a2a7-454a-a003-4823e9460d48 button');\n",
              "      quickchartButtonEl.style.display =\n",
              "        google.colab.kernel.accessAllowed ? 'block' : 'none';\n",
              "    })();\n",
              "  </script>\n",
              "</div>\n",
              "    </div>\n",
              "  </div>\n"
            ]
          },
          "metadata": {},
          "execution_count": 8
        }
      ],
      "source": [
        "check_completion(df)"
      ]
    },
    {
      "cell_type": "code",
      "source": [
        "columns_to_drop = ['isbn', 'isbn13', 'bookID']\n",
        "df.drop(columns=columns_to_drop, inplace=True)"
      ],
      "metadata": {
        "id": "OpIIa6gHKV3i"
      },
      "execution_count": null,
      "outputs": []
    },
    {
      "cell_type": "code",
      "execution_count": null,
      "metadata": {
        "colab": {
          "base_uri": "https://localhost:8080/",
          "height": 765
        },
        "id": "546KX69J4O_p",
        "outputId": "71108b25-43b8-4a81-8f01-54ace2113046"
      },
      "outputs": [
        {
          "output_type": "stream",
          "name": "stderr",
          "text": [
            "<ipython-input-29-3033c0efef66>:4: UserWarning: \n",
            "\n",
            "`distplot` is a deprecated function and will be removed in seaborn v0.14.0.\n",
            "\n",
            "Please adapt your code to use either `displot` (a figure-level function with\n",
            "similar flexibility) or `histplot` (an axes-level function for histograms).\n",
            "\n",
            "For a guide to updating your code to use the new functions, please see\n",
            "https://gist.github.com/mwaskom/de44147ed2974457ad6372750bbe5751\n",
            "\n",
            "  sns.distplot(df[column].dropna(), bins=30)\n"
          ]
        },
        {
          "output_type": "display_data",
          "data": {
            "text/plain": [
              "<Figure size 1200x600 with 1 Axes>"
            ],
            "image/png": "[encoded data removed]"
          },
          "metadata": {}
        }
      ],
      "source": [
        "for column in df.select_dtypes(['int32', 'float64']).columns:\n",
        "    plt.figure(figsize=(12,6))\n",
        "    plt.title('Distribution de ' + column)\n",
        "    sns.distplot(df[column].dropna(), bins=30)"
      ]
    },
    {
      "cell_type": "code",
      "execution_count": null,
      "metadata": {
        "colab": {
          "base_uri": "https://localhost:8080/",
          "height": 1000
        },
        "id": "OtHaR_CH4b4H",
        "outputId": "f777eaf4-be15-4d36-fdbd-bb9acbe76d0c"
      },
      "outputs": [
        {
          "name": "stderr",
          "output_type": "stream",
          "text": [
            "<ipython-input-15-c5a90781c972>:1: FutureWarning: The default value of numeric_only in DataFrame.corr is deprecated. In a future version, it will default to False. Select only valid columns or specify the value of numeric_only to silence this warning.\n",
            "  corr = df.corr()\n"
          ]
        },
        {
          "data": {
            "image/png": "[encoded data removed]",
            "text/plain": [
              "<Figure size 1500x1500 with 2 Axes>"
            ]
          },
          "metadata": {},
          "output_type": "display_data"
        }
      ],
      "source": [
        "corr = df.corr()\n",
        "mask = np.zeros_like(corr)\n",
        "mask[np.triu_indices_from(mask)] = True\n",
        "fig, ax = plt.subplots(figsize=(15,15))\n",
        "ax = sns.heatmap(corr, annot=True, fmt=\".2f\", annot_kws={'size':8},\n",
        "                 mask=mask, center=0, cmap=\"coolwarm\")\n",
        "plt.title(f\"Heatmap des corrélations linéaires\\n\")\n",
        "plt.show()"
      ]
    },
    {
      "cell_type": "code",
      "execution_count": null,
      "metadata": {
        "colab": {
          "base_uri": "https://localhost:8080/"
        },
        "id": "CL3A2FlH5IFh",
        "outputId": "baec7d10-f40f-45c5-d5aa-24c5b8a91135"
      },
      "outputs": [
        {
          "output_type": "stream",
          "name": "stdout",
          "text": [
            "<class 'pandas.core.frame.DataFrame'>\n",
            "RangeIndex: 13714 entries, 0 to 13713\n",
            "Data columns (total 11 columns):\n",
            " #   Column              Non-Null Count  Dtype   \n",
            "---  ------              --------------  -----   \n",
            " 0   bookID              13714 non-null  int64   \n",
            " 1   title               13714 non-null  object  \n",
            " 2   authors             13714 non-null  object  \n",
            " 3   average_rating      13714 non-null  float64 \n",
            " 4   isbn                13714 non-null  object  \n",
            " 5   isbn13              13714 non-null  int64   \n",
            " 6   language_code       13714 non-null  object  \n",
            " 7   # num_pages         13714 non-null  int64   \n",
            " 8   ratings_count       13714 non-null  int64   \n",
            " 9   text_reviews_count  13714 non-null  int64   \n",
            " 10  class               13714 non-null  category\n",
            "dtypes: category(1), float64(1), int64(5), object(4)\n",
            "memory usage: 1.1+ MB\n"
          ]
        }
      ],
      "source": [
        "df.info()"
      ]
    },
    {
      "cell_type": "markdown",
      "source": [
        "Création d'une nouvelle colonne 'class' dans le DataFrame en catégorisant les notes moyennes avec des étiquettes 'BAD', 'Medium' et 'Good' selon des intervalles prédéfinis"
      ],
      "metadata": {
        "id": "DI2vH-o6TeqT"
      }
    },
    {
      "cell_type": "code",
      "source": [
        "import pandas as pd\n",
        "\n",
        "bins = [-float('inf'), 2, 4, 5]\n",
        "labels = ['BAD', 'Medium', 'Good']\n",
        "\n",
        "df['class'] = pd.cut(df['average_rating'], bins=bins, labels=labels, include_lowest=True)\n"
      ],
      "metadata": {
        "id": "T9h2X5DrKV0v"
      },
      "execution_count": null,
      "outputs": []
    },
    {
      "cell_type": "markdown",
      "source": [
        "#  Classification without \"title\" Column"
      ],
      "metadata": {
        "id": "mujspvFfTLni"
      }
    },
    {
      "cell_type": "code",
      "source": [
        "Y = df[['class']]\n",
        "df= df.drop(['class'], axis=1)"
      ],
      "metadata": {
        "id": "3mvu32gaKe6t"
      },
      "execution_count": null,
      "outputs": []
    },
    {
      "cell_type": "code",
      "source": [
        "from sklearn.preprocessing import LabelEncoder\n",
        "# Apply label encoding to the target variable (y)\n",
        "label_encoder = LabelEncoder()\n",
        "y_encoded = label_encoder.fit_transform(Y)\n",
        "import numpy as np\n",
        "from sklearn.impute import SimpleImputer\n",
        "from sklearn.preprocessing import OneHotEncoder, StandardScaler\n",
        "# determine categorical and numerical features\n",
        "numerical_i = df.select_dtypes(include=['int64', 'float64']).columns\n",
        "categorical_i = df.select_dtypes(include=['object', 'bool']).columns\n",
        "\n",
        "ohe = OneHotEncoder(sparse=False)\n",
        "ss = StandardScaler()\n",
        "df[numerical_i] = ss.fit_transform(df[numerical_i])\n",
        "ohe.fit_transform(df[categorical_i])\n",
        "\n",
        "data_scaled= pd.merge(df[numerical_i],\n",
        "          pd.DataFrame(columns = ohe.get_feature_names_out().tolist(),\n",
        "              data = ohe.fit_transform(df[categorical_i])),\n",
        "        left_index = True, right_index = True)"
      ],
      "metadata": {
        "colab": {
          "base_uri": "https://localhost:8080/"
        },
        "id": "Dk0Cq_NTKe9r",
        "outputId": "54dd9f26-4594-422e-f7d1-c10c236a0c6f"
      },
      "execution_count": null,
      "outputs": [
        {
          "output_type": "stream",
          "name": "stderr",
          "text": [
            "/usr/local/lib/python3.10/dist-packages/sklearn/preprocessing/_label.py:116: DataConversionWarning: A column-vector y was passed when a 1d array was expected. Please change the shape of y to (n_samples, ), for example using ravel().\n",
            "  y = column_or_1d(y, warn=True)\n",
            "/usr/local/lib/python3.10/dist-packages/sklearn/preprocessing/_encoders.py:868: FutureWarning: `sparse` was renamed to `sparse_output` in version 1.2 and will be removed in 1.4. `sparse_output` is ignored unless you leave `sparse` to its default value.\n",
            "  warnings.warn(\n",
            "/usr/local/lib/python3.10/dist-packages/sklearn/preprocessing/_encoders.py:868: FutureWarning: `sparse` was renamed to `sparse_output` in version 1.2 and will be removed in 1.4. `sparse_output` is ignored unless you leave `sparse` to its default value.\n",
            "  warnings.warn(\n"
          ]
        }
      ]
    },
    {
      "cell_type": "code",
      "source": [
        "from sklearn.model_selection import train_test_split\n",
        "X_train, X_test, y_train, y_test = train_test_split(data_scaled, y_encoded, test_size=0.2, random_state=42)\n",
        "print(\"Entrainement: {} lignes,\\nTest: {} lignes.\\n\".format(X_train.shape[0],\n",
        "                                                            X_test.shape[0]))"
      ],
      "metadata": {
        "colab": {
          "base_uri": "https://localhost:8080/"
        },
        "id": "PonhifxqKpU1",
        "outputId": "f226b8cb-6d75-4ed0-91ff-0c10400513c1"
      },
      "execution_count": null,
      "outputs": [
        {
          "output_type": "stream",
          "name": "stdout",
          "text": [
            "Entrainement: 10971 lignes,\n",
            "Test: 2743 lignes.\n",
            "\n"
          ]
        }
      ]
    },
    {
      "cell_type": "code",
      "source": [
        "from xgboost import XGBClassifier\n",
        "from sklearn.metrics import f1_score, jaccard_score, accuracy_score, recall_score, precision_score\n",
        "\n",
        "# Create an XGBoost Classifier with specific hyperparameters\n",
        "xgb_classifier = XGBClassifier(\n",
        "    max_depth=5,\n",
        "    learning_rate=0.1,\n",
        "    n_estimators=100\n",
        ")\n",
        "\n",
        "# Fit the classifier to the training data\n",
        "xgb_classifier.fit(X_train, y_train)\n",
        "\n",
        "# Make predictions on the test set\n",
        "y_pred = xgb_classifier.predict(X_test)\n",
        "\n",
        "# Calculate metrics\n",
        "f1 = f1_score(y_test, y_pred, average='weighted')\n",
        "jaccard = jaccard_score(y_test, y_pred, average='weighted')\n",
        "accuracy = accuracy_score(y_test, y_pred)\n",
        "recall = recall_score(y_test, y_pred, average='weighted')\n",
        "precision = precision_score(y_test, y_pred, average='weighted')\n",
        "\n",
        "# Print metrics\n",
        "print('Weighted F1 Score:', f1)\n",
        "print('Weighted Jaccard Coefficient:', jaccard)\n",
        "print('Accuracy:', accuracy)\n",
        "print('Weighted Recall:', recall)\n",
        "print('Weighted Precision:', precision)\n"
      ],
      "metadata": {
        "colab": {
          "base_uri": "https://localhost:8080/"
        },
        "id": "aMsl75uWK2UI",
        "outputId": "309fbc34-a00e-457a-cc7b-41017d50b5a8"
      },
      "execution_count": null,
      "outputs": [
        {
          "output_type": "stream",
          "name": "stdout",
          "text": [
            "Weighted F1 Score: 0.6178109279338772\n",
            "Weighted Jaccard Coefficient: 0.46545168268286363\n",
            "Accuracy: 0.6540284360189573\n",
            "Weighted Recall: 0.6540284360189573\n",
            "Weighted Precision: 0.6631355456566499\n"
          ]
        }
      ]
    },
    {
      "cell_type": "code",
      "source": [
        "from sklearn.svm import SVC\n",
        "from sklearn.metrics import f1_score, jaccard_score, accuracy_score, recall_score, precision_score\n",
        "\n",
        "\n",
        "# Create an SVM Classifier with RBF kernel\n",
        "svm_classifier = SVC(kernel='rbf')\n",
        "\n",
        "# Fit the classifier to the training data\n",
        "svm_classifier.fit(X_train, y_train)\n",
        "\n",
        "# Make predictions on the test set\n",
        "y_pred = svm_classifier.predict(X_test)\n",
        "\n",
        "\n",
        "# Calculate metrics\n",
        "f1 = f1_score(y_test, y_pred, average='weighted')\n",
        "jaccard = jaccard_score(y_test, y_pred, average='weighted')\n",
        "accuracy = accuracy_score(y_test, y_pred)\n",
        "recall = recall_score(y_test, y_pred, average='weighted')\n",
        "precision = precision_score(y_test, y_pred, average='weighted')\n",
        "\n",
        "# Print metrics\n",
        "print('Weighted F1 Score:', f1)\n",
        "print('Weighted Jaccard Coefficient:', jaccard)\n",
        "print('Accuracy:', accuracy)\n",
        "print('Weighted Recall:', recall)\n",
        "print('Weighted Precision:', precision)"
      ],
      "metadata": {
        "colab": {
          "base_uri": "https://localhost:8080/"
        },
        "id": "n1m0h9zfMebA",
        "outputId": "9a4b1aa1-bf6b-4a5f-b7df-f01fbcbf0c49"
      },
      "execution_count": null,
      "outputs": [
        {
          "output_type": "stream",
          "name": "stdout",
          "text": [
            "Weighted F1 Score: 0.642656679712721\n",
            "Weighted Jaccard Coefficient: 0.4892203770999042\n",
            "Accuracy: 0.6726212176449143\n",
            "Weighted Recall: 0.6726212176449143\n",
            "Weighted Precision: 0.6807709107362261\n"
          ]
        },
        {
          "output_type": "stream",
          "name": "stderr",
          "text": [
            "/usr/local/lib/python3.10/dist-packages/sklearn/metrics/_classification.py:1344: UndefinedMetricWarning: Precision is ill-defined and being set to 0.0 in labels with no predicted samples. Use `zero_division` parameter to control this behavior.\n",
            "  _warn_prf(average, modifier, msg_start, len(result))\n"
          ]
        }
      ]
    },
    {
      "cell_type": "code",
      "source": [
        "from sklearn.ensemble import RandomForestClassifier\n",
        "from sklearn.model_selection import GridSearchCV\n",
        "\n",
        "# Create a RandomForestClassifier\n",
        "rf_classifier = RandomForestClassifier()\n",
        "\n",
        "# Define the parameter grid for GridSearchCV\n",
        "param_grid = {\n",
        "    'n_estimators': [50, 100, 200],\n",
        "    'max_depth': [None, 10, 20, 30],\n",
        "    'min_samples_split': [2, 5, 10],\n",
        "    'min_samples_leaf': [1, 2, 4]\n",
        "}\n",
        "\n",
        "# Create GridSearchCV\n",
        "grid_search = GridSearchCV(rf_classifier, param_grid, cv=5, scoring='accuracy')\n",
        "\n",
        "# Fit the grid search to the data\n",
        "grid_search.fit(X_train, y_train)\n",
        "\n",
        "# Get the best estimator from the grid search\n",
        "best_rf_classifier = grid_search.best_estimator_\n",
        "\n",
        "# Make predictions on the test set using the best model\n",
        "y_pred = best_rf_classifier.predict(X_test)\n",
        "\n",
        "# Calculate metrics\n",
        "f1 = f1_score(y_test, y_pred, average='weighted')\n",
        "jaccard = jaccard_score(y_test, y_pred, average='weighted')\n",
        "accuracy = accuracy_score(y_test, y_pred)\n",
        "recall = recall_score(y_test, y_pred, average='weighted')\n",
        "precision = precision_score(y_test, y_pred, average='weighted')\n",
        "# Print metrics\n",
        "print('Weighted F1 Score:', f1)\n",
        "print('Weighted Jaccard Coefficient:', jaccard)\n",
        "print('Accuracy:', accuracy)\n",
        "print('Weighted Recall:', recall)\n",
        "print('Weighted Precision:', precision)"
      ],
      "metadata": {
        "colab": {
          "base_uri": "https://localhost:8080/"
        },
        "id": "22MFiUZYThMy",
        "outputId": "d6d83002-9c38-4ba1-9d46-50d7c403a0ed"
      },
      "execution_count": null,
      "outputs": [
        {
          "output_type": "stream",
          "name": "stdout",
          "text": [
            "Weighted F1 Score: 0.6708738657192107\n",
            "Weighted Jaccard Coefficient: 0.5166355086122654\n",
            "Accuracy: 0.6919431279620853\n",
            "Weighted Recall: 0.6919431279620853\n",
            "Weighted Precision: 0.6962960562384212\n"
          ]
        },
        {
          "output_type": "stream",
          "name": "stderr",
          "text": [
            "/usr/local/lib/python3.10/dist-packages/sklearn/metrics/_classification.py:1344: UndefinedMetricWarning: Precision is ill-defined and being set to 0.0 in labels with no predicted samples. Use `zero_division` parameter to control this behavior.\n",
            "  _warn_prf(average, modifier, msg_start, len(result))\n"
          ]
        }
      ]
    },
    {
      "cell_type": "code",
      "source": [
        "import pandas as pd\n",
        "import matplotlib.pyplot as plt\n",
        "import seaborn as sns\n",
        "\n",
        "# Data\n",
        "data = {\n",
        "    'Model': ['XGBoost', 'SVM', 'Random Forest'],\n",
        "    'Weighted F1 Score': [0.6178, 0.6427, 0.6709],\n",
        "    'Weighted Jaccard Coefficient': [0.4655, 0.4892, 0.5166],\n",
        "    'Accuracy': [0.6540, 0.6726, 0.6919],\n",
        "    'Weighted Recall': [0.6540, 0.6726, 0.6919],\n",
        "    'Weighted Precision': [0.6631, 0.6808, 0.6963]\n",
        "}\n",
        "\n",
        "# Create a DataFrame\n",
        "df = pd.DataFrame(data)\n",
        "\n",
        "# Plotting\n",
        "plt.figure(figsize=(15, 8))\n",
        "\n",
        "# Weighted F1 Score\n",
        "plt.subplot(2, 3, 1)\n",
        "sns.barplot(x='Weighted F1 Score', y='Model', data=df, palette='viridis')\n",
        "plt.title('Weighted F1 Score')\n",
        "\n",
        "# Weighted Jaccard Coefficient\n",
        "plt.subplot(2, 3, 2)\n",
        "sns.barplot(x='Weighted Jaccard Coefficient', y='Model', data=df, palette='viridis')\n",
        "plt.title('Weighted Jaccard Coefficient')\n",
        "\n",
        "# Accuracy\n",
        "plt.subplot(2, 3, 3)\n",
        "sns.barplot(x='Accuracy', y='Model', data=df, palette='viridis')\n",
        "plt.title('Accuracy')\n",
        "\n",
        "# Weighted Recall\n",
        "plt.subplot(2, 3, 4)\n",
        "sns.barplot(x='Weighted Recall', y='Model', data=df, palette='viridis')\n",
        "plt.title('Weighted Recall')\n",
        "\n",
        "# Weighted Precision\n",
        "plt.subplot(2, 3, 5)\n",
        "sns.barplot(x='Weighted Precision', y='Model', data=df, palette='viridis')\n",
        "plt.title('Weighted Precision')\n",
        "\n",
        "plt.tight_layout()\n",
        "plt.show()\n"
      ],
      "metadata": {
        "colab": {
          "base_uri": "https://localhost:8080/",
          "height": 610
        },
        "id": "6egon5oyVi8-",
        "outputId": "63cd671c-3b7e-4617-cd40-8849f9dc9b60"
      },
      "execution_count": null,
      "outputs": [
        {
          "output_type": "display_data",
          "data": {
            "text/plain": [
              "<Figure size 1500x800 with 5 Axes>"
            ],
            "image/png": "[encoded data removed]"
          },
          "metadata": {}
        }
      ]
    },
    {
      "cell_type": "markdown",
      "source": [
        "Interpretation:\n",
        " Accuracy: Random Forest has the highest accuracy (0.6919), indicating that it correctly predicts the target values more often than XGBoost and SVM.\n",
        "Weighted F1 Score: Random Forest also has the highest weighted F1 score (0.6709), which considers both precision and recall.\n",
        " Weighted Jaccard Coefficient: Random Forest has the highest weighted Jaccard coefficient (0.5166), which measures the similarity between predicted and true labels.\n",
        "Weighted Recall: Random Forest has the highest weighted recall (0.6919), indicating that it captures a higher proportion of true positives.\n",
        " Weighted Precision: Random Forest has the highest weighted precision (0.6963), indicating that it has a higher proportion of true positives among predicted positives.\n",
        "Random Forest appears to be the best-performing model\n"
      ],
      "metadata": {
        "id": "1CVSQl5Eq3SS"
      }
    },
    {
      "cell_type": "markdown",
      "source": [
        "#  Classification with \"title\" Column"
      ],
      "metadata": {
        "id": "xIJZL-JeN7CQ"
      }
    },
    {
      "cell_type": "code",
      "source": [
        "from sklearn.ensemble import RandomForestClassifier\n",
        "from sklearn.model_selection import GridSearchCV\n",
        "\n",
        "# Create a RandomForestClassifier\n",
        "rf_classifier = RandomForestClassifier()\n",
        "\n",
        "# Define the parameter grid for GridSearchCV\n",
        "param_grid = {\n",
        "    'n_estimators': [50, 100, 200],\n",
        "    'max_depth': [None, 10, 20, 30],\n",
        "    'min_samples_split': [2, 5, 10],\n",
        "    'min_samples_leaf': [1, 2, 4]\n",
        "}\n",
        "\n",
        "# Create GridSearchCV\n",
        "grid_search = GridSearchCV(rf_classifier, param_grid, cv=5, scoring='accuracy')\n",
        "\n",
        "# Fit the grid search to the data\n",
        "grid_search.fit(X_train, y_train)\n",
        "\n",
        "# Get the best estimator from the grid search\n",
        "best_rf_classifier = grid_search.best_estimator_\n",
        "\n",
        "# Make predictions on the test set using the best model\n",
        "y_pred = best_rf_classifier.predict(X_test)\n",
        "\n"
      ],
      "metadata": {
        "id": "5QwJTyesMfKA"
      },
      "execution_count": null,
      "outputs": []
    },
    {
      "cell_type": "code",
      "source": [
        "from sklearn.metrics import f1_score, jaccard_score, accuracy_score, recall_score, precision_score\n",
        "# Calculate metrics\n",
        "f1 = f1_score(y_test, y_pred, average='weighted')\n",
        "jaccard = jaccard_score(y_test, y_pred, average='weighted')\n",
        "accuracy = accuracy_score(y_test, y_pred)\n",
        "recall = recall_score(y_test, y_pred, average='weighted')\n",
        "precision = precision_score(y_test, y_pred, average='weighted')\n",
        "# Print metrics\n",
        "print('Weighted F1 Score:', f1)\n",
        "print('Weighted Jaccard Coefficient:', jaccard)\n",
        "print('Accuracy:', accuracy)\n",
        "print('Weighted Recall:', recall)\n",
        "print('Weighted Precision:', precision)"
      ],
      "metadata": {
        "colab": {
          "base_uri": "https://localhost:8080/"
        },
        "id": "Vw2Mx5oFof8D",
        "outputId": "e7c79559-a246-4bd5-81d3-e4fbb2e1c870"
      },
      "execution_count": null,
      "outputs": [
        {
          "output_type": "stream",
          "name": "stdout",
          "text": [
            "Weighted F1 Score: 0.6590804903229399\n",
            "Weighted Jaccard Coefficient: 0.5067866036059903\n",
            "Accuracy: 0.6886620488516223\n",
            "Weighted Recall: 0.6886620488516223\n",
            "Weighted Precision: 0.7044907076797511\n"
          ]
        },
        {
          "output_type": "stream",
          "name": "stderr",
          "text": [
            "/usr/local/lib/python3.10/dist-packages/sklearn/metrics/_classification.py:1344: UndefinedMetricWarning: Precision is ill-defined and being set to 0.0 in labels with no predicted samples. Use `zero_division` parameter to control this behavior.\n",
            "  _warn_prf(average, modifier, msg_start, len(result))\n"
          ]
        }
      ]
    },
    {
      "cell_type": "code",
      "source": [
        "from sklearn.svm import SVC\n",
        "from sklearn.metrics import f1_score, jaccard_score, accuracy_score, recall_score, precision_score\n",
        "\n",
        "\n",
        "# Create an SVM Classifier with RBF kernel\n",
        "svm_classifier = SVC(kernel='rbf')\n",
        "\n",
        "# Fit the classifier to the training data\n",
        "svm_classifier.fit(X_train, y_train)\n",
        "\n",
        "# Make predictions on the test set\n",
        "y_pred = svm_classifier.predict(X_test)\n",
        "\n",
        "\n",
        "# Calculate metrics\n",
        "f1 = f1_score(y_test, y_pred, average='weighted')\n",
        "jaccard = jaccard_score(y_test, y_pred, average='weighted')\n",
        "accuracy = accuracy_score(y_test, y_pred)\n",
        "recall = recall_score(y_test, y_pred, average='weighted')\n",
        "precision = precision_score(y_test, y_pred, average='weighted')\n",
        "\n",
        "# Print metrics\n",
        "print('Weighted F1 Score:', f1)\n",
        "print('Weighted Jaccard Coefficient:', jaccard)\n",
        "print('Accuracy:', accuracy)\n",
        "print('Weighted Recall:', recall)\n",
        "print('Weighted Precision:', precision)"
      ],
      "metadata": {
        "colab": {
          "base_uri": "https://localhost:8080/"
        },
        "id": "dE5L-qfiODCk",
        "outputId": "98f52c0e-c749-4bd0-ca6d-31d5217ee514"
      },
      "execution_count": null,
      "outputs": [
        {
          "output_type": "stream",
          "name": "stdout",
          "text": [
            "Weighted F1 Score: 0.6513402944834656\n",
            "Weighted Jaccard Coefficient: 0.4984455823368668\n",
            "Accuracy: 0.6810061975938754\n",
            "Weighted Recall: 0.6810061975938754\n",
            "Weighted Precision: 0.6927250931365133\n"
          ]
        },
        {
          "output_type": "stream",
          "name": "stderr",
          "text": [
            "/usr/local/lib/python3.10/dist-packages/sklearn/metrics/_classification.py:1344: UndefinedMetricWarning: Precision is ill-defined and being set to 0.0 in labels with no predicted samples. Use `zero_division` parameter to control this behavior.\n",
            "  _warn_prf(average, modifier, msg_start, len(result))\n"
          ]
        }
      ]
    },
    {
      "cell_type": "markdown",
      "source": [
        "# Regression"
      ],
      "metadata": {
        "id": "CS0npq5KDNST"
      }
    },
    {
      "cell_type": "code",
      "source": [
        "from sklearn.preprocessing import LabelEncoder\n",
        "\n",
        "# Assuming 'title' and 'authors' are columns in your DataFrame 'df'\n",
        "encoder = LabelEncoder()\n",
        "df['title'] = encoder.fit_transform(df['title'])\n",
        "df['authors'] = encoder.fit_transform(df['authors'])\n",
        "\n",
        "# Displaying a sample of the DataFrame\n",
        "print(df.sample(5))\n"
      ],
      "metadata": {
        "id": "wc7WjF05EZWX",
        "colab": {
          "base_uri": "https://localhost:8080/"
        },
        "outputId": "60f428df-1f4d-47dc-9c2a-4f7a7e2ebfe6"
      },
      "execution_count": null,
      "outputs": [
        {
          "output_type": "stream",
          "name": "stdout",
          "text": [
            "       title  authors  average_rating language_code  # num_pages  \\\n",
            "10772   7965     6091            4.30         en-US          496   \n",
            "9738   11498     5408            3.32           eng          384   \n",
            "3198     763     7079            3.48           eng          192   \n",
            "13302   5010      189            4.11         en-US          248   \n",
            "13428   4105     6038            3.67           eng          401   \n",
            "\n",
            "       ratings_count  text_reviews_count  \n",
            "10772           7292                 335  \n",
            "9738            3603                 190  \n",
            "3198              92                  15  \n",
            "13302            559                  81  \n",
            "13428             31                   3  \n"
          ]
        }
      ]
    },
    {
      "cell_type": "code",
      "source": [
        "# Adding 'language_code'\n",
        "df['language_code'] = encoder.fit_transform(df['language_code'])"
      ],
      "metadata": {
        "id": "oEIEmAsLWwhb"
      },
      "execution_count": null,
      "outputs": []
    },
    {
      "cell_type": "code",
      "source": [
        "df"
      ],
      "metadata": {
        "colab": {
          "base_uri": "https://localhost:8080/",
          "height": 423
        },
        "id": "h6COI9RFY6eE",
        "outputId": "7c455ebd-ee61-442c-c77c-be7c78d0a341"
      },
      "execution_count": null,
      "outputs": [
        {
          "output_type": "execute_result",
          "data": {
            "text/plain": [
              "       title  authors  average_rating  language_code  # num_pages  \\\n",
              "0       3718     3024            4.56              7          652   \n",
              "1       3719     3024            4.49              7          870   \n",
              "2       3722     3024            4.47              7          320   \n",
              "3       3716     3018            4.41              7          352   \n",
              "4       3721     3024            4.55              7          435   \n",
              "...      ...      ...             ...            ...          ...   \n",
              "13709   5204     5254            3.82              7          260   \n",
              "13710   1202     5241            3.72              7          160   \n",
              "13711   4280     5247            3.53              6          239   \n",
              "13712   9046      809            4.43              7          224   \n",
              "13713  11195      808            4.29              7          132   \n",
              "\n",
              "       ratings_count  text_reviews_count  \n",
              "0            1944099               26249  \n",
              "1            1996446               27613  \n",
              "2            5629932               70390  \n",
              "3               6267                 272  \n",
              "4            2149872               33964  \n",
              "...              ...                 ...  \n",
              "13709          11317                1060  \n",
              "13710           8710                 361  \n",
              "13711          14334                1485  \n",
              "13712           1550                  38  \n",
              "13713           3572                  33  \n",
              "\n",
              "[13714 rows x 7 columns]"
            ],
            "text/html": [
              "\n",
              "  <div id=\"df-42d0ba51-5789-4e2d-80ad-2873908281eb\" class=\"colab-df-container\">\n",
              "    <div>\n",
              "<style scoped>\n",
              "    .dataframe tbody tr th:only-of-type {\n",
              "        vertical-align: middle;\n",
              "    }\n",
              "\n",
              "    .dataframe tbody tr th {\n",
              "        vertical-align: top;\n",
              "    }\n",
              "\n",
              "    .dataframe thead th {\n",
              "        text-align: right;\n",
              "    }\n",
              "</style>\n",
              "<table border=\"1\" class=\"dataframe\">\n",
              "  <thead>\n",
              "    <tr style=\"text-align: right;\">\n",
              "      <th></th>\n",
              "      <th>title</th>\n",
              "      <th>authors</th>\n",
              "      <th>average_rating</th>\n",
              "      <th>language_code</th>\n",
              "      <th># num_pages</th>\n",
              "      <th>ratings_count</th>\n",
              "      <th>text_reviews_count</th>\n",
              "    </tr>\n",
              "  </thead>\n",
              "  <tbody>\n",
              "    <tr>\n",
              "      <th>0</th>\n",
              "      <td>3718</td>\n",
              "      <td>3024</td>\n",
              "      <td>4.56</td>\n",
              "      <td>7</td>\n",
              "      <td>652</td>\n",
              "      <td>1944099</td>\n",
              "      <td>26249</td>\n",
              "    </tr>\n",
              "    <tr>\n",
              "      <th>1</th>\n",
              "      <td>3719</td>\n",
              "      <td>3024</td>\n",
              "      <td>4.49</td>\n",
              "      <td>7</td>\n",
              "      <td>870</td>\n",
              "      <td>1996446</td>\n",
              "      <td>27613</td>\n",
              "    </tr>\n",
              "    <tr>\n",
              "      <th>2</th>\n",
              "      <td>3722</td>\n",
              "      <td>3024</td>\n",
              "      <td>4.47</td>\n",
              "      <td>7</td>\n",
              "      <td>320</td>\n",
              "      <td>5629932</td>\n",
              "      <td>70390</td>\n",
              "    </tr>\n",
              "    <tr>\n",
              "      <th>3</th>\n",
              "      <td>3716</td>\n",
              "      <td>3018</td>\n",
              "      <td>4.41</td>\n",
              "      <td>7</td>\n",
              "      <td>352</td>\n",
              "      <td>6267</td>\n",
              "      <td>272</td>\n",
              "    </tr>\n",
              "    <tr>\n",
              "      <th>4</th>\n",
              "      <td>3721</td>\n",
              "      <td>3024</td>\n",
              "      <td>4.55</td>\n",
              "      <td>7</td>\n",
              "      <td>435</td>\n",
              "      <td>2149872</td>\n",
              "      <td>33964</td>\n",
              "    </tr>\n",
              "    <tr>\n",
              "      <th>...</th>\n",
              "      <td>...</td>\n",
              "      <td>...</td>\n",
              "      <td>...</td>\n",
              "      <td>...</td>\n",
              "      <td>...</td>\n",
              "      <td>...</td>\n",
              "      <td>...</td>\n",
              "    </tr>\n",
              "    <tr>\n",
              "      <th>13709</th>\n",
              "      <td>5204</td>\n",
              "      <td>5254</td>\n",
              "      <td>3.82</td>\n",
              "      <td>7</td>\n",
              "      <td>260</td>\n",
              "      <td>11317</td>\n",
              "      <td>1060</td>\n",
              "    </tr>\n",
              "    <tr>\n",
              "      <th>13710</th>\n",
              "      <td>1202</td>\n",
              "      <td>5241</td>\n",
              "      <td>3.72</td>\n",
              "      <td>7</td>\n",
              "      <td>160</td>\n",
              "      <td>8710</td>\n",
              "      <td>361</td>\n",
              "    </tr>\n",
              "    <tr>\n",
              "      <th>13711</th>\n",
              "      <td>4280</td>\n",
              "      <td>5247</td>\n",
              "      <td>3.53</td>\n",
              "      <td>6</td>\n",
              "      <td>239</td>\n",
              "      <td>14334</td>\n",
              "      <td>1485</td>\n",
              "    </tr>\n",
              "    <tr>\n",
              "      <th>13712</th>\n",
              "      <td>9046</td>\n",
              "      <td>809</td>\n",
              "      <td>4.43</td>\n",
              "      <td>7</td>\n",
              "      <td>224</td>\n",
              "      <td>1550</td>\n",
              "      <td>38</td>\n",
              "    </tr>\n",
              "    <tr>\n",
              "      <th>13713</th>\n",
              "      <td>11195</td>\n",
              "      <td>808</td>\n",
              "      <td>4.29</td>\n",
              "      <td>7</td>\n",
              "      <td>132</td>\n",
              "      <td>3572</td>\n",
              "      <td>33</td>\n",
              "    </tr>\n",
              "  </tbody>\n",
              "</table>\n",
              "<p>13714 rows × 7 columns</p>\n",
              "</div>\n",
              "    <div class=\"colab-df-buttons\">\n",
              "\n",
              "  <div class=\"colab-df-container\">\n",
              "    <button class=\"colab-df-convert\" onclick=\"convertToInteractive('df-42d0ba51-5789-4e2d-80ad-2873908281eb')\"\n",
              "            title=\"Convert this dataframe to an interactive table.\"\n",
              "            style=\"display:none;\">\n",
              "\n",
              "  <svg xmlns=\"http://www.w3.org/2000/svg\" height=\"24px\" viewBox=\"0 -960 960 960\">\n",
              "    <path d=\"M120-120v-720h720v720H120Zm60-500h600v-160H180v160Zm220 220h160v-160H400v160Zm0 220h160v-160H400v160ZM180-400h160v-160H180v160Zm440 0h160v-160H620v160ZM180-180h160v-160H180v160Zm440 0h160v-160H620v160Z\"/>\n",
              "  </svg>\n",
              "    </button>\n",
              "\n",
              "  <style>\n",
              "    .colab-df-container {\n",
              "      display:flex;\n",
              "      gap: 12px;\n",
              "    }\n",
              "\n",
              "    .colab-df-convert {\n",
              "      background-color: #E8F0FE;\n",
              "      border: none;\n",
              "      border-radius: 50%;\n",
              "      cursor: pointer;\n",
              "      display: none;\n",
              "      fill: #1967D2;\n",
              "      height: 32px;\n",
              "      padding: 0 0 0 0;\n",
              "      width: 32px;\n",
              "    }\n",
              "\n",
              "    .colab-df-convert:hover {\n",
              "      background-color: #E2EBFA;\n",
              "      box-shadow: 0px 1px 2px rgba(60, 64, 67, 0.3), 0px 1px 3px 1px rgba(60, 64, 67, 0.15);\n",
              "      fill: #174EA6;\n",
              "    }\n",
              "\n",
              "    .colab-df-buttons div {\n",
              "      margin-bottom: 4px;\n",
              "    }\n",
              "\n",
              "    [theme=dark] .colab-df-convert {\n",
              "      background-color: #3B4455;\n",
              "      fill: #D2E3FC;\n",
              "    }\n",
              "\n",
              "    [theme=dark] .colab-df-convert:hover {\n",
              "      background-color: #434B5C;\n",
              "      box-shadow: 0px 1px 3px 1px rgba(0, 0, 0, 0.15);\n",
              "      filter: drop-shadow(0px 1px 2px rgba(0, 0, 0, 0.3));\n",
              "      fill: #FFFFFF;\n",
              "    }\n",
              "  </style>\n",
              "\n",
              "    <script>\n",
              "      const buttonEl =\n",
              "        document.querySelector('#df-42d0ba51-5789-4e2d-80ad-2873908281eb button.colab-df-convert');\n",
              "      buttonEl.style.display =\n",
              "        google.colab.kernel.accessAllowed ? 'block' : 'none';\n",
              "\n",
              "      async function convertToInteractive(key) {\n",
              "        const element = document.querySelector('#df-42d0ba51-5789-4e2d-80ad-2873908281eb');\n",
              "        const dataTable =\n",
              "          await google.colab.kernel.invokeFunction('convertToInteractive',\n",
              "                                                    [key], {});\n",
              "        if (!dataTable) return;\n",
              "\n",
              "        const docLinkHtml = 'Like what you see? Visit the ' +\n",
              "          '<a target=\"_blank\" href=https://colab.research.google.com/notebooks/data_table.ipynb>data table notebook</a>'\n",
              "          + ' to learn more about interactive tables.';\n",
              "        element.innerHTML = '';\n",
              "        dataTable['output_type'] = 'display_data';\n",
              "        await google.colab.output.renderOutput(dataTable, element);\n",
              "        const docLink = document.createElement('div');\n",
              "        docLink.innerHTML = docLinkHtml;\n",
              "        element.appendChild(docLink);\n",
              "      }\n",
              "    </script>\n",
              "  </div>\n",
              "\n",
              "\n",
              "<div id=\"df-28223c76-ae5a-4319-8393-00d7d87600c4\">\n",
              "  <button class=\"colab-df-quickchart\" onclick=\"quickchart('df-28223c76-ae5a-4319-8393-00d7d87600c4')\"\n",
              "            title=\"Suggest charts\"\n",
              "            style=\"display:none;\">\n",
              "\n",
              "<svg xmlns=\"http://www.w3.org/2000/svg\" height=\"24px\"viewBox=\"0 0 24 24\"\n",
              "     width=\"24px\">\n",
              "    <g>\n",
              "        <path d=\"M19 3H5c-1.1 0-2 .9-2 2v14c0 1.1.9 2 2 2h14c1.1 0 2-.9 2-2V5c0-1.1-.9-2-2-2zM9 17H7v-7h2v7zm4 0h-2V7h2v10zm4 0h-2v-4h2v4z\"/>\n",
              "    </g>\n",
              "</svg>\n",
              "  </button>\n",
              "\n",
              "<style>\n",
              "  .colab-df-quickchart {\n",
              "      --bg-color: #E8F0FE;\n",
              "      --fill-color: #1967D2;\n",
              "      --hover-bg-color: #E2EBFA;\n",
              "      --hover-fill-color: #174EA6;\n",
              "      --disabled-fill-color: #AAA;\n",
              "      --disabled-bg-color: #DDD;\n",
              "  }\n",
              "\n",
              "  [theme=dark] .colab-df-quickchart {\n",
              "      --bg-color: #3B4455;\n",
              "      --fill-color: #D2E3FC;\n",
              "      --hover-bg-color: #434B5C;\n",
              "      --hover-fill-color: #FFFFFF;\n",
              "      --disabled-bg-color: #3B4455;\n",
              "      --disabled-fill-color: #666;\n",
              "  }\n",
              "\n",
              "  .colab-df-quickchart {\n",
              "    background-color: var(--bg-color);\n",
              "    border: none;\n",
              "    border-radius: 50%;\n",
              "    cursor: pointer;\n",
              "    display: none;\n",
              "    fill: var(--fill-color);\n",
              "    height: 32px;\n",
              "    padding: 0;\n",
              "    width: 32px;\n",
              "  }\n",
              "\n",
              "  .colab-df-quickchart:hover {\n",
              "    background-color: var(--hover-bg-color);\n",
              "    box-shadow: 0 1px 2px rgba(60, 64, 67, 0.3), 0 1px 3px 1px rgba(60, 64, 67, 0.15);\n",
              "    fill: var(--button-hover-fill-color);\n",
              "  }\n",
              "\n",
              "  .colab-df-quickchart-complete:disabled,\n",
              "  .colab-df-quickchart-complete:disabled:hover {\n",
              "    background-color: var(--disabled-bg-color);\n",
              "    fill: var(--disabled-fill-color);\n",
              "    box-shadow: none;\n",
              "  }\n",
              "\n",
              "  .colab-df-spinner {\n",
              "    border: 2px solid var(--fill-color);\n",
              "    border-color: transparent;\n",
              "    border-bottom-color: var(--fill-color);\n",
              "    animation:\n",
              "      spin 1s steps(1) infinite;\n",
              "  }\n",
              "\n",
              "  @keyframes spin {\n",
              "    0% {\n",
              "      border-color: transparent;\n",
              "      border-bottom-color: var(--fill-color);\n",
              "      border-left-color: var(--fill-color);\n",
              "    }\n",
              "    20% {\n",
              "      border-color: transparent;\n",
              "      border-left-color: var(--fill-color);\n",
              "      border-top-color: var(--fill-color);\n",
              "    }\n",
              "    30% {\n",
              "      border-color: transparent;\n",
              "      border-left-color: var(--fill-color);\n",
              "      border-top-color: var(--fill-color);\n",
              "      border-right-color: var(--fill-color);\n",
              "    }\n",
              "    40% {\n",
              "      border-color: transparent;\n",
              "      border-right-color: var(--fill-color);\n",
              "      border-top-color: var(--fill-color);\n",
              "    }\n",
              "    60% {\n",
              "      border-color: transparent;\n",
              "      border-right-color: var(--fill-color);\n",
              "    }\n",
              "    80% {\n",
              "      border-color: transparent;\n",
              "      border-right-color: var(--fill-color);\n",
              "      border-bottom-color: var(--fill-color);\n",
              "    }\n",
              "    90% {\n",
              "      border-color: transparent;\n",
              "      border-bottom-color: var(--fill-color);\n",
              "    }\n",
              "  }\n",
              "</style>\n",
              "\n",
              "  <script>\n",
              "    async function quickchart(key) {\n",
              "      const quickchartButtonEl =\n",
              "        document.querySelector('#' + key + ' button');\n",
              "      quickchartButtonEl.disabled = true;  // To prevent multiple clicks.\n",
              "      quickchartButtonEl.classList.add('colab-df-spinner');\n",
              "      try {\n",
              "        const charts = await google.colab.kernel.invokeFunction(\n",
              "            'suggestCharts', [key], {});\n",
              "      } catch (error) {\n",
              "        console.error('Error during call to suggestCharts:', error);\n",
              "      }\n",
              "      quickchartButtonEl.classList.remove('colab-df-spinner');\n",
              "      quickchartButtonEl.classList.add('colab-df-quickchart-complete');\n",
              "    }\n",
              "    (() => {\n",
              "      let quickchartButtonEl =\n",
              "        document.querySelector('#df-28223c76-ae5a-4319-8393-00d7d87600c4 button');\n",
              "      quickchartButtonEl.style.display =\n",
              "        google.colab.kernel.accessAllowed ? 'block' : 'none';\n",
              "    })();\n",
              "  </script>\n",
              "</div>\n",
              "    </div>\n",
              "  </div>\n"
            ]
          },
          "metadata": {},
          "execution_count": 52
        }
      ]
    },
    {
      "cell_type": "code",
      "source": [
        "from sklearn.preprocessing import StandardScaler\n",
        "from sklearn.model_selection import train_test_split\n",
        "\n",
        "df_attributes = df.drop(\"average_rating\", axis=1)\n",
        "\n",
        "# Standardizing the features using StandardScaler\n",
        "df_scaled = StandardScaler().fit_transform(df_attributes)\n",
        "\n",
        "# Separating features and target variable\n",
        "X_train, X_test, y_train, y_test = train_test_split(df_scaled, df['average_rating'], test_size=0.3)\n"
      ],
      "metadata": {
        "id": "pOyISRURW7zs"
      },
      "execution_count": null,
      "outputs": []
    },
    {
      "cell_type": "code",
      "source": [
        "import pandas as pd\n",
        "\n",
        "# Assuming you have your true labels in a DataFrame called 'df_test'\n",
        "df_test = pd.DataFrame({'true_average_rating': y_test})\n",
        "\n",
        "# Define bins and labels for classification\n",
        "bins = [-float('inf'), 2, 4, 5]\n",
        "labels = ['BAD', 'Medium', 'Good']\n",
        "\n",
        "# Create a new column 'true_class' based on the true average rating values\n",
        "df_test['true_class'] = pd.cut(df_test['true_average_rating'], bins=bins, labels=labels, include_lowest=True)\n"
      ],
      "metadata": {
        "id": "hMmX1DOpbG6T"
      },
      "execution_count": null,
      "outputs": []
    },
    {
      "cell_type": "code",
      "source": [
        "from sklearn.metrics import mean_squared_error, r2_score, explained_variance_score, mean_absolute_error\n",
        "\n",
        "def evaluate_regression(y_true, y_pred):\n",
        "    \"\"\"\n",
        "    Evaluate regression performance\n",
        "    \"\"\"\n",
        "    mse = mean_squared_error(y_true, y_pred)\n",
        "    rmse = mean_squared_error(y_true, y_pred, squared=False)\n",
        "    r2 = r2_score(y_true, y_pred)\n",
        "    explained_var = explained_variance_score(y_true, y_pred)\n",
        "    mae = mean_absolute_error(y_true, y_pred)\n",
        "\n",
        "    return {\n",
        "        'Mean Squared Error': mse,\n",
        "        'Root Mean Squared Error': rmse,\n",
        "        'R-squared': r2,\n",
        "        'Explained Variance Score': explained_var,\n",
        "        'Mean Absolute Error': mae\n",
        "    }"
      ],
      "metadata": {
        "id": "sBHjbMMjcB22"
      },
      "execution_count": null,
      "outputs": []
    },
    {
      "cell_type": "code",
      "source": [
        "from sklearn.svm import LinearSVR\n",
        "from sklearn.metrics import mean_squared_error, r2_score\n",
        "\n",
        "# Create a Linear Support Vector Regression (SVR) model\n",
        "svr_model = LinearSVR()\n",
        "\n",
        "# Fit the model to the training data\n",
        "svr_model.fit(X_train, y_train)\n",
        "\n",
        "# Make predictions on the test set\n",
        "y_pred = svr_model.predict(X_test)\n"
      ],
      "metadata": {
        "colab": {
          "base_uri": "https://localhost:8080/"
        },
        "id": "3JErttgJY823",
        "outputId": "ef44c4c2-01ba-4511-a684-f829e1eda1dc"
      },
      "execution_count": null,
      "outputs": [
        {
          "output_type": "stream",
          "name": "stderr",
          "text": [
            "/usr/local/lib/python3.10/dist-packages/sklearn/svm/_base.py:1244: ConvergenceWarning: Liblinear failed to converge, increase the number of iterations.\n",
            "  warnings.warn(\n"
          ]
        }
      ]
    },
    {
      "cell_type": "code",
      "source": [
        "# Assuming y_test is the true target values\n",
        "evaluation_results = evaluate_regression(y_test, y_pred)\n",
        "\n",
        "evaluation_results\n"
      ],
      "metadata": {
        "colab": {
          "base_uri": "https://localhost:8080/"
        },
        "id": "yfAryLkncH-0",
        "outputId": "99391eb4-8886-4298-f752-7b8b708e65f8"
      },
      "execution_count": null,
      "outputs": [
        {
          "output_type": "execute_result",
          "data": {
            "text/plain": [
              "{'Mean Squared Error': 0.12960032846021313,\n",
              " 'Root Mean Squared Error': 0.3600004561944514,\n",
              " 'R-squared': 0.02432174027870615,\n",
              " 'Explained Variance Score': 0.030456961406278293,\n",
              " 'Mean Absolute Error': 0.23328260572356535}"
            ]
          },
          "metadata": {},
          "execution_count": 25
        }
      ]
    },
    {
      "cell_type": "code",
      "source": [
        "import pandas as pd\n",
        "from sklearn.metrics import f1_score, jaccard_score, accuracy_score, recall_score, precision_score\n",
        "from sklearn.preprocessing import LabelEncoder\n",
        "\n",
        "def evaluate_classification(y_true, y_pred, df_test):\n",
        "    # Make a copy of the DataFrame to avoid modifying the original\n",
        "    df_test_copy = df_test.copy()\n",
        "\n",
        "    # Define bins and labels for classification\n",
        "    bins = [-float('inf'), 2, 4, float('inf')]\n",
        "    labels = ['BAD', 'Medium', 'Good']\n",
        "\n",
        "    # Assuming you have your predicted labels in a DataFrame called 'df_pred'\n",
        "    df_test_copy['predicted_average_rating'] = y_pred\n",
        "\n",
        "    # Create a new column 'predicted_class' based on the predicted average rating values\n",
        "    df_test_copy['predicted_class'] = pd.cut(df_test_copy['predicted_average_rating'], bins=bins, labels=labels, include_lowest=True)\n",
        "\n",
        "    # Use LabelEncoder to convert string labels to numerical labels\n",
        "    label_encoder = LabelEncoder()\n",
        "    df_test_copy['true_class'] = label_encoder.fit_transform(df_test_copy['true_class'])\n",
        "    df_test_copy['predicted_class'] = label_encoder.transform(df_test_copy['predicted_class'])\n",
        "\n",
        "    # Calculate evaluation metrics\n",
        "    f1 = f1_score(df_test_copy['true_class'], df_test_copy['predicted_class'], average='weighted')\n",
        "    jaccard = jaccard_score(df_test_copy['true_class'], df_test_copy['predicted_class'], average='weighted')\n",
        "    accuracy = accuracy_score(df_test_copy['true_class'], df_test_copy['predicted_class'])\n",
        "    recall = recall_score(df_test_copy['true_class'], df_test_copy['predicted_class'], average='weighted')\n",
        "    precision = precision_score(df_test_copy['true_class'], df_test_copy['predicted_class'], average='weighted')\n",
        "\n",
        "    return {'F1 Score': f1, 'Jaccard Score': jaccard, 'Accuracy Score': accuracy, 'Recall Score': recall, 'Precision Score': precision}\n"
      ],
      "metadata": {
        "id": "LgszDXudEtQx"
      },
      "execution_count": null,
      "outputs": []
    },
    {
      "cell_type": "code",
      "source": [
        "scores = evaluate_classification(df_test['true_class'], y_pred, df_test)\n",
        "scores"
      ],
      "metadata": {
        "colab": {
          "base_uri": "https://localhost:8080/"
        },
        "id": "pFpeZZ7TE8wH",
        "outputId": "aa83fb8b-19c8-4ad3-a914-eb99208d7bf9"
      },
      "execution_count": null,
      "outputs": [
        {
          "output_type": "stream",
          "name": "stderr",
          "text": [
            "/usr/local/lib/python3.10/dist-packages/sklearn/metrics/_classification.py:1344: UndefinedMetricWarning: Precision is ill-defined and being set to 0.0 in labels with no predicted samples. Use `zero_division` parameter to control this behavior.\n",
            "  _warn_prf(average, modifier, msg_start, len(result))\n"
          ]
        },
        {
          "output_type": "execute_result",
          "data": {
            "text/plain": [
              "{'F1 Score': 0.5562077081018206,\n",
              " 'Jaccard Score': 0.4140806576769318,\n",
              " 'Accuracy Score': 0.6155528554070474,\n",
              " 'Recall Score': 0.6155528554070474,\n",
              " 'Precision Score': 0.6122939939340358}"
            ]
          },
          "metadata": {},
          "execution_count": 136
        }
      ]
    },
    {
      "cell_type": "code",
      "source": [
        "from sklearn.neighbors import KNeighborsRegressor\n",
        "\n",
        "\n",
        "# Create a KNN Regressor model\n",
        "knn_regressor = KNeighborsRegressor(n_neighbors=5)  # You can adjust the number of neighbors as needed\n",
        "\n",
        "# Fit the model to the training data\n",
        "knn_regressor.fit(X_train, y_train)\n",
        "\n",
        "# Make predictions on the test set\n",
        "y_pred = knn_regressor.predict(X_test)\n",
        "\n"
      ],
      "metadata": {
        "id": "hAxgr_FmcL5H"
      },
      "execution_count": null,
      "outputs": []
    },
    {
      "cell_type": "code",
      "source": [
        "# Assuming y_test is the true target values\n",
        "evaluation_results = evaluate_regression(y_test, y_pred)\n",
        "\n",
        "evaluation_results\n"
      ],
      "metadata": {
        "colab": {
          "base_uri": "https://localhost:8080/"
        },
        "id": "26jjqi0Wc9tP",
        "outputId": "b13492e9-80b1-434d-f412-5b21bfe53307"
      },
      "execution_count": null,
      "outputs": [
        {
          "output_type": "execute_result",
          "data": {
            "text/plain": [
              "{'Mean Squared Error': 0.14615813462940463,\n",
              " 'Root Mean Squared Error': 0.38230633610941456,\n",
              " 'R-squared': -0.08021844954860691,\n",
              " 'Explained Variance Score': -0.07950232652518752,\n",
              " 'Mean Absolute Error': 0.25099927095990276}"
            ]
          },
          "metadata": {},
          "execution_count": 20
        }
      ]
    },
    {
      "cell_type": "code",
      "source": [
        "scores = evaluate_classification(df_test['true_class'], y_pred, df_test)\n",
        "scores"
      ],
      "metadata": {
        "colab": {
          "base_uri": "https://localhost:8080/"
        },
        "id": "nn67m1s5EU02",
        "outputId": "a17d21b7-116e-464f-c359-6e257cbd0df9"
      },
      "execution_count": null,
      "outputs": [
        {
          "output_type": "stream",
          "name": "stderr",
          "text": [
            "/usr/local/lib/python3.10/dist-packages/sklearn/metrics/_classification.py:1344: UndefinedMetricWarning: Precision is ill-defined and being set to 0.0 in labels with no predicted samples. Use `zero_division` parameter to control this behavior.\n",
            "  _warn_prf(average, modifier, msg_start, len(result))\n"
          ]
        },
        {
          "output_type": "execute_result",
          "data": {
            "text/plain": [
              "{'F1 Score': 0.5792450605181839,\n",
              " 'Jaccard Score': 0.41739768983973463,\n",
              " 'Accuracy Score': 0.591494532199271,\n",
              " 'Recall Score': 0.591494532199271,\n",
              " 'Precision Score': 0.5780023356525619}"
            ]
          },
          "metadata": {},
          "execution_count": 134
        }
      ]
    },
    {
      "cell_type": "markdown",
      "source": [
        "\n",
        "GradientBoostingRegressor with GridSearchCV\n"
      ],
      "metadata": {
        "id": "D6r42hGcmSCU"
      }
    },
    {
      "cell_type": "code",
      "source": [
        "from sklearn.ensemble import GradientBoostingRegressor\n",
        "from sklearn.metrics import mean_squared_error, r2_score, explained_variance_score, mean_absolute_error\n",
        "from sklearn.model_selection import train_test_split, GridSearchCV\n",
        "\n",
        "# Create a Gradient Boosting Regressor model\n",
        "gb_regressor = GradientBoostingRegressor(random_state=42)\n",
        "\n",
        "# Define the parameter grid for GridSearchCV\n",
        "params = {\n",
        "    \"n_estimators\": [20, 50, 100, 200],\n",
        "    \"learning_rate\": [0.01, 0.05, 0.1, 0.3],\n",
        "    \"max_depth\": [3, 5, 10],\n",
        "    \"min_samples_leaf\": [3, 5],\n",
        "    \"max_features\": [0.3, 1]\n",
        "}\n",
        "\n",
        "# Create the GridSearchCV object\n",
        "grid_search = GridSearchCV(estimator=gb_regressor, param_grid=params, scoring='neg_mean_squared_error', cv=5)\n",
        "\n",
        "# Fit the model to the training data with grid search\n",
        "grid_search.fit(X_train, y_train)\n",
        "\n",
        "# Get the best parameters from the grid search\n",
        "best_params = grid_search.best_params_\n",
        "print('Best Parameters:', best_params)\n",
        "\n",
        "# Use the best model to make predictions on the test set\n",
        "y_pred = grid_search.best_estimator_.predict(X_test)"
      ],
      "metadata": {
        "colab": {
          "base_uri": "https://localhost:8080/"
        },
        "id": "tFUwE4kljQNz",
        "outputId": "304014a8-412d-4766-ab88-d8305a46841a"
      },
      "execution_count": null,
      "outputs": [
        {
          "output_type": "stream",
          "name": "stdout",
          "text": [
            "Best Parameters: {'learning_rate': 0.1, 'max_depth': 5, 'max_features': 0.3, 'min_samples_leaf': 3, 'n_estimators': 100}\n"
          ]
        }
      ]
    },
    {
      "cell_type": "code",
      "source": [
        "# Assuming y_test is the true target values\n",
        "evaluation_results = evaluate_regression(y_test, y_pred)\n",
        "\n",
        "evaluation_results\n"
      ],
      "metadata": {
        "colab": {
          "base_uri": "https://localhost:8080/"
        },
        "id": "VO6R_cMTmkWO",
        "outputId": "adccdb07-1f3a-4fc1-db98-6d9f7d70b911"
      },
      "execution_count": null,
      "outputs": [
        {
          "output_type": "execute_result",
          "data": {
            "text/plain": [
              "{'Mean Squared Error': 0.10469589585946645,\n",
              " 'Root Mean Squared Error': 0.3235674517924608,\n",
              " 'R-squared': 0.22621865292564758,\n",
              " 'Explained Variance Score': 0.22689733328782635,\n",
              " 'Mean Absolute Error': 0.2232526194884356}"
            ]
          },
          "metadata": {},
          "execution_count": 27
        }
      ]
    },
    {
      "cell_type": "code",
      "source": [
        "from sklearn.svm import SVR\n",
        "# Create a Gaussian SVR model\n",
        "gaussian_svr = SVR(kernel='rbf')\n",
        "\n",
        "# Define the parameter grid for GridSearchCV\n",
        "params = {\n",
        "    \"C\": [1, 5, 50, 100],\n",
        "    \"gamma\": [0.001, 0.01, 0.1],\n",
        "    \"epsilon\": [0.01, 0.1]\n",
        "}\n",
        "\n",
        "# Create the GridSearchCV object\n",
        "grid_search_svr = GridSearchCV(estimator=gaussian_svr, param_grid=params, scoring='neg_mean_squared_error', cv=5)\n",
        "\n",
        "# Fit the model to the training data with grid search\n",
        "grid_search_svr.fit(X_train, y_train)\n",
        "\n",
        "# Get the best parameters from the grid search\n",
        "best_params_svr = grid_search_svr.best_params_\n",
        "print('Best Parameters:', best_params_svr)\n",
        "\n",
        "# Use the best model to make predictions on the test set\n",
        "y_pred = grid_search_svr.best_estimator_.predict(X_test)"
      ],
      "metadata": {
        "colab": {
          "base_uri": "https://localhost:8080/"
        },
        "id": "zLWzGYT4npBi",
        "outputId": "78064b63-7f63-4634-ce10-a375098835e5"
      },
      "execution_count": null,
      "outputs": [
        {
          "output_type": "stream",
          "name": "stdout",
          "text": [
            "Best Parameters: {'C': 1, 'epsilon': 0.1, 'gamma': 0.1}\n"
          ]
        }
      ]
    },
    {
      "cell_type": "code",
      "source": [
        "# Assuming y_test is the true target values\n",
        "evaluation_results = evaluate_regression(y_test, y_pred)\n",
        "\n",
        "evaluation_results\n"
      ],
      "metadata": {
        "colab": {
          "base_uri": "https://localhost:8080/"
        },
        "id": "VEJeq1ucz3_Z",
        "outputId": "67cfe805-e604-4fab-a467-f1968c267b91"
      },
      "execution_count": null,
      "outputs": [
        {
          "output_type": "execute_result",
          "data": {
            "text/plain": [
              "{'Mean Squared Error': 0.12688690826440444,\n",
              " 'Root Mean Squared Error': 0.3562118867533823,\n",
              " 'R-squared': 0.04474935127316437,\n",
              " 'Explained Variance Score': 0.05042158979723432,\n",
              " 'Mean Absolute Error': 0.22737099657062107}"
            ]
          },
          "metadata": {},
          "execution_count": 66
        }
      ]
    },
    {
      "cell_type": "code",
      "source": [
        "scores = evaluate_classification(df_test['true_class'], y_pred, df_test)\n",
        "scores"
      ],
      "metadata": {
        "colab": {
          "base_uri": "https://localhost:8080/"
        },
        "id": "jhNV6MO5Fa79",
        "outputId": "fd8b834c-d403-4b39-bf0c-51cf2a05d5d3"
      },
      "execution_count": null,
      "outputs": [
        {
          "output_type": "stream",
          "name": "stderr",
          "text": [
            "/usr/local/lib/python3.10/dist-packages/sklearn/metrics/_classification.py:1344: UndefinedMetricWarning: Precision is ill-defined and being set to 0.0 in labels with no predicted samples. Use `zero_division` parameter to control this behavior.\n",
            "  _warn_prf(average, modifier, msg_start, len(result))\n"
          ]
        },
        {
          "output_type": "execute_result",
          "data": {
            "text/plain": [
              "{'F1 Score': 0.5931158216153806,\n",
              " 'Jaccard Score': 0.4407082871203458,\n",
              " 'Accuracy Score': 0.6289185905224788,\n",
              " 'Recall Score': 0.6289185905224788,\n",
              " 'Precision Score': 0.6213705747974164}"
            ]
          },
          "metadata": {},
          "execution_count": 140
        }
      ]
    },
    {
      "cell_type": "code",
      "source": [
        "import pandas as pd\n",
        "import matplotlib.pyplot as plt\n",
        "import seaborn as sns\n",
        "\n",
        "# Data\n",
        "data = {\n",
        "    'Model': ['Linear SVC', 'KNN', 'Gradient Boosting', 'Gaussian SVR'],\n",
        "    'MSE': [0.1296, 0.1462, 0.1047, 0.1269],\n",
        "    'RMSE': [0.36, 0.3823, 0.3236, 0.3562],\n",
        "    'R-squared': [0.0243, -0.0802, 0.2262, 0.0447],\n",
        "    'Explained Variance': [0.0305, -0.0795, 0.2269, 0.0504],\n",
        "    'MAE': [0.2333, 0.2510, 0.2233, 0.2274]\n",
        "}\n",
        "\n",
        "# Create a DataFrame\n",
        "df = pd.DataFrame(data)\n",
        "\n",
        "# Plotting\n",
        "plt.figure(figsize=(15, 8))\n",
        "\n",
        "# Mean Squared Error\n",
        "plt.subplot(2, 3, 1)\n",
        "sns.barplot(x='MSE', y='Model', data=df, palette='viridis')\n",
        "plt.title('Mean Squared Error')\n",
        "\n",
        "# Root Mean Squared Error\n",
        "plt.subplot(2, 3, 2)\n",
        "sns.barplot(x='RMSE', y='Model', data=df, palette='viridis')\n",
        "plt.title('Root Mean Squared Error')\n",
        "\n",
        "# R-squared\n",
        "plt.subplot(2, 3, 3)\n",
        "sns.barplot(x='R-squared', y='Model', data=df, palette='viridis')\n",
        "plt.title('R-squared')\n",
        "\n",
        "# Explained Variance\n",
        "plt.subplot(2, 3, 4)\n",
        "sns.barplot(x='Explained Variance', y='Model', data=df, palette='viridis')\n",
        "plt.title('Explained Variance')\n",
        "\n",
        "# Mean Absolute Error\n",
        "plt.subplot(2, 3, 5)\n",
        "sns.barplot(x='MAE', y='Model', data=df, palette='viridis')\n",
        "plt.title('Mean Absolute Error')\n",
        "\n",
        "plt.tight_layout()\n",
        "plt.show()\n"
      ],
      "metadata": {
        "colab": {
          "base_uri": "https://localhost:8080/",
          "height": 827
        },
        "id": "hEiYsZd0U0E8",
        "outputId": "9a59e0e8-961a-467c-c93f-c508bdcbd784"
      },
      "execution_count": null,
      "outputs": [
        {
          "output_type": "display_data",
          "data": {
            "text/plain": [
              "<Figure size 1500x800 with 5 Axes>"
            ],
            "image/png": "[encoded data removed]"
          },
          "metadata": {}
        }
      ]
    },
    {
      "cell_type": "markdown",
      "source": [
        "The lower the Mean Absolute Error (MAE), the better the model performance."
      ],
      "metadata": {
        "id": "vfjLm5nlZKlh"
      }
    },
    {
      "cell_type": "markdown",
      "source": [
        "The model with the lowest MAE is Gradient Boosting with an MAE of 0.2232.\n",
        "R-squared and Explained Variance are also important metrics. Gradient Boosting shows the highest values for these metrics, indicating a better fit to the data.\n",
        "Therefore, based on the provided metrics, Gradient Boosting seems to be the best-performing mode"
      ],
      "metadata": {
        "id": "WY1QdXcorH08"
      }
    },
    {
      "cell_type": "markdown",
      "source": [
        "# ANN\n"
      ],
      "metadata": {
        "id": "tQPbet-KzPw1"
      }
    },
    {
      "cell_type": "code",
      "source": [
        "columns_to_drop = ['isbn', 'isbn13', 'bookID','title','authors']\n",
        "df.drop(columns=columns_to_drop, inplace=True)"
      ],
      "metadata": {
        "id": "-Fv67tLxzzbL"
      },
      "execution_count": null,
      "outputs": []
    },
    {
      "cell_type": "code",
      "source": [
        "from sklearn.preprocessing import LabelEncoder\n",
        "\n",
        "# Assuming 'title' and 'authors' are columns in your DataFrame 'df'\n",
        "encoder = LabelEncoder()\n",
        "# Adding 'language_code'\n",
        "df['language_code'] = encoder.fit_transform(df['language_code'])\n",
        "\n",
        "from sklearn.preprocessing import StandardScaler\n",
        "from sklearn.model_selection import train_test_split\n",
        "\n",
        "df_attributes = df.drop(\"average_rating\", axis=1)\n",
        "\n",
        "# Standardizing the features using StandardScaler\n",
        "df_scaled = StandardScaler().fit_transform(df_attributes)\n",
        "\n",
        "# Separating features and target variable\n",
        "X_train, X_test, y_train, y_test = train_test_split(df_scaled, df['average_rating'], test_size=0.3)\n"
      ],
      "metadata": {
        "id": "9faTxWZ6zTXv"
      },
      "execution_count": null,
      "outputs": []
    },
    {
      "cell_type": "code",
      "source": [
        "pip install livelossplot\n"
      ],
      "metadata": {
        "colab": {
          "base_uri": "https://localhost:8080/"
        },
        "id": "vU4IOZdf7rx1",
        "outputId": "dd1e4e08-dba3-456b-9f94-3059603e1f0b"
      },
      "execution_count": null,
      "outputs": [
        {
          "output_type": "stream",
          "name": "stdout",
          "text": [
            "Collecting livelossplot\n",
            "  Downloading livelossplot-0.5.5-py3-none-any.whl (22 kB)\n",
            "Requirement already satisfied: matplotlib in /usr/local/lib/python3.10/dist-packages (from livelossplot) (3.7.1)\n",
            "Requirement already satisfied: bokeh in /usr/local/lib/python3.10/dist-packages (from livelossplot) (3.3.1)\n",
            "Requirement already satisfied: Jinja2>=2.9 in /usr/local/lib/python3.10/dist-packages (from bokeh->livelossplot) (3.1.2)\n",
            "Requirement already satisfied: contourpy>=1 in /usr/local/lib/python3.10/dist-packages (from bokeh->livelossplot) (1.2.0)\n",
            "Requirement already satisfied: numpy>=1.16 in /usr/local/lib/python3.10/dist-packages (from bokeh->livelossplot) (1.23.5)\n",
            "Requirement already satisfied: packaging>=16.8 in /usr/local/lib/python3.10/dist-packages (from bokeh->livelossplot) (23.2)\n",
            "Requirement already satisfied: pandas>=1.2 in /usr/local/lib/python3.10/dist-packages (from bokeh->livelossplot) (1.5.3)\n",
            "Requirement already satisfied: pillow>=7.1.0 in /usr/local/lib/python3.10/dist-packages (from bokeh->livelossplot) (9.4.0)\n",
            "Requirement already satisfied: PyYAML>=3.10 in /usr/local/lib/python3.10/dist-packages (from bokeh->livelossplot) (6.0.1)\n",
            "Requirement already satisfied: tornado>=5.1 in /usr/local/lib/python3.10/dist-packages (from bokeh->livelossplot) (6.3.2)\n",
            "Requirement already satisfied: xyzservices>=2021.09.1 in /usr/local/lib/python3.10/dist-packages (from bokeh->livelossplot) (2023.10.1)\n",
            "Requirement already satisfied: cycler>=0.10 in /usr/local/lib/python3.10/dist-packages (from matplotlib->livelossplot) (0.12.1)\n",
            "Requirement already satisfied: fonttools>=4.22.0 in /usr/local/lib/python3.10/dist-packages (from matplotlib->livelossplot) (4.45.1)\n",
            "Requirement already satisfied: kiwisolver>=1.0.1 in /usr/local/lib/python3.10/dist-packages (from matplotlib->livelossplot) (1.4.5)\n",
            "Requirement already satisfied: pyparsing>=2.3.1 in /usr/local/lib/python3.10/dist-packages (from matplotlib->livelossplot) (3.1.1)\n",
            "Requirement already satisfied: python-dateutil>=2.7 in /usr/local/lib/python3.10/dist-packages (from matplotlib->livelossplot) (2.8.2)\n",
            "Requirement already satisfied: MarkupSafe>=2.0 in /usr/local/lib/python3.10/dist-packages (from Jinja2>=2.9->bokeh->livelossplot) (2.1.3)\n",
            "Requirement already satisfied: pytz>=2020.1 in /usr/local/lib/python3.10/dist-packages (from pandas>=1.2->bokeh->livelossplot) (2023.3.post1)\n",
            "Requirement already satisfied: six>=1.5 in /usr/local/lib/python3.10/dist-packages (from python-dateutil>=2.7->matplotlib->livelossplot) (1.16.0)\n",
            "Installing collected packages: livelossplot\n",
            "Successfully installed livelossplot-0.5.5\n"
          ]
        }
      ]
    },
    {
      "cell_type": "markdown",
      "source": [
        "ANN  structure:\n",
        "- Input Layer: 4 nodes (features) with ReLU activation function.\n",
        "- Hidden Layer 1: 8 nodes with ReLU activation function.\n",
        "- Hidden Layer 2: 16 nodes with ReLU activation function, followed by a Dropout layer with a dropout rate of 0.5 and Batch Normalization.\n",
        "- Output Layer: 1 node with linear activation function for regression.\n",
        "The model is compiled using the Adam optimizer with a learning rate of 0.001, mean squared error as the loss function, and mean absolute error as the evaluation metric. This architecture is suitable for regression tasks.\n"
      ],
      "metadata": {
        "id": "RPcBeHgPuSej"
      }
    },
    {
      "cell_type": "code",
      "source": [
        "import tensorflow as tf\n",
        "from tensorflow.keras.models import Sequential\n",
        "from tensorflow.keras.layers import Dense, Dropout, BatchNormalization\n",
        "\n",
        "# Define the architecture of the neural network\n",
        "my_custom_model = Sequential()\n",
        "\n",
        "# Input layer with 4 nodes\n",
        "my_custom_model.add(Dense(units=4, input_dim=4, activation='relu'))\n",
        "\n",
        "# Hidden layer 1 with 8 nodes\n",
        "my_custom_model.add(Dense(units=8, activation='relu'))\n",
        "\n",
        "# Hidden layer 1 with 16 nodes, dropout, and batch normalization\n",
        "my_custom_model.add(Dense(units=16, activation='relu'))\n",
        "my_custom_model.add(Dropout(0.5))\n",
        "my_custom_model.add(BatchNormalization())\n",
        "\n",
        "# Output layer with 1 node (linear activation for regression)\n",
        "my_custom_model.add(Dense(units=1, activation='linear'))\n",
        "# Compile the model\n",
        "my_custom_model.compile(optimizer=tf.keras.optimizers.Adam(learning_rate=0.001),\n",
        "                        loss='mean_squared_error',\n",
        "                        metrics=['mean_absolute_error'])\n",
        "\n",
        "# Display the model summary\n",
        "my_custom_model.summary()\n"
      ],
      "metadata": {
        "colab": {
          "base_uri": "https://localhost:8080/"
        },
        "id": "O9_-m7lY6r3j",
        "outputId": "836331e7-fdd2-4c91-b360-305a9426c735"
      },
      "execution_count": null,
      "outputs": [
        {
          "output_type": "stream",
          "name": "stdout",
          "text": [
            "Model: \"sequential\"\n",
            "_________________________________________________________________\n",
            " Layer (type)                Output Shape              Param #   \n",
            "=================================================================\n",
            " dense (Dense)               (None, 4)                 20        \n",
            "                                                                 \n",
            " dense_1 (Dense)             (None, 8)                 40        \n",
            "                                                                 \n",
            " dense_2 (Dense)             (None, 16)                144       \n",
            "                                                                 \n",
            " dropout (Dropout)           (None, 16)                0         \n",
            "                                                                 \n",
            " batch_normalization (Batch  (None, 16)                64        \n",
            " Normalization)                                                  \n",
            "                                                                 \n",
            " dense_3 (Dense)             (None, 1)                 17        \n",
            "                                                                 \n",
            "=================================================================\n",
            "Total params: 285 (1.11 KB)\n",
            "Trainable params: 253 (1012.00 Byte)\n",
            "Non-trainable params: 32 (128.00 Byte)\n",
            "_________________________________________________________________\n"
          ]
        }
      ]
    },
    {
      "cell_type": "code",
      "source": [
        "from tensorflow.keras.callbacks import EarlyStopping, ModelCheckpoint\n",
        "from livelossplot import PlotLossesKeras\n",
        "\n",
        "# Define the ModelCheckpoint callback\n",
        "best_weights_filepath = 'best_weights.h5'\n",
        "checkpoint_callback = ModelCheckpoint(\n",
        "    filepath=best_weights_filepath,\n",
        "    monitor='val_mean_absolute_error',  # Monitor the validation mean absolute error\n",
        "    save_best_only=True,\n",
        "    mode='min',\n",
        "    verbose=1\n",
        ")\n",
        "\n",
        "# Fit the model using the training data\n",
        "history = my_custom_model.fit(\n",
        "    X_train, y_train,\n",
        "    epochs=100,\n",
        "    validation_data=(X_test, y_test),\n",
        "    callbacks=[PlotLossesKeras(), EarlyStopping(patience=20), checkpoint_callback]\n",
        ")\n",
        "\n",
        "# Evaluate the model on the test set\n",
        "test_loss, test_metric = my_custom_model.evaluate(X_test, y_test)\n",
        "print(f\"Test Loss: {test_loss}, Test Metric: {test_metric}\")\n"
      ],
      "metadata": {
        "colab": {
          "base_uri": "https://localhost:8080/",
          "height": 981
        },
        "id": "VGO1T-R591TW",
        "outputId": "143ced61-a54a-434b-9c57-41d3971e0d77"
      },
      "execution_count": null,
      "outputs": [
        {
          "output_type": "display_data",
          "data": {
            "text/plain": [
              "<Figure size 1200x800 with 2 Axes>"
            ],
            "image/png": "[encoded data removed]"
          },
          "metadata": {}
        },
        {
          "output_type": "stream",
          "name": "stdout",
          "text": [
            "Loss\n",
            "\ttraining         \t (min:    0.131, max:    8.815, cur:    0.132)\n",
            "\tvalidation       \t (min:    0.111, max:    1.516, cur:    0.111)\n",
            "mean_absolute_error\n",
            "\ttraining         \t (min:    0.235, max:    2.755, cur:    0.235)\n",
            "\tvalidation       \t (min:    0.225, max:    1.184, cur:    0.229)\n",
            "\n",
            "Epoch 60: val_mean_absolute_error did not improve from 0.22536\n",
            "300/300 [==============================] - 4s 13ms/step - loss: 0.1316 - mean_absolute_error: 0.2352 - val_loss: 0.1114 - val_mean_absolute_error: 0.2292\n",
            "129/129 [==============================] - 1s 4ms/step - loss: 0.1114 - mean_absolute_error: 0.2292\n",
            "Test Loss: 0.111426442861557, Test Metric: 0.22920674085617065\n"
          ]
        }
      ]
    },
    {
      "cell_type": "markdown",
      "source": [
        "The model has an average absolute error of 0.2292 on the test set. This means that, on average, the model's predictions deviate by approximately 0.2292 units from the actual values. The overall performance of the model on the test set, as indicated by the test loss, is relatively good with a value of 0.1114"
      ],
      "metadata": {
        "id": "cbIw3tr5sOKx"
      }
    },
    {
      "cell_type": "code",
      "source": [
        "pip install shap\n"
      ],
      "metadata": {
        "colab": {
          "base_uri": "https://localhost:8080/"
        },
        "id": "viaQ3G114cO_",
        "outputId": "f2a1e62c-53ed-4b7c-98df-59179fa5b3ea"
      },
      "execution_count": null,
      "outputs": [
        {
          "output_type": "stream",
          "name": "stdout",
          "text": [
            "Collecting shap\n",
            "  Downloading shap-0.43.0-cp310-cp310-manylinux_2_12_x86_64.manylinux2010_x86_64.manylinux_2_17_x86_64.manylinux2014_x86_64.whl (532 kB)\n",
            "\u001b[2K     \u001b[90m━━━━━━━━━━━━━━━━━━━━━━━━━━━━━━━━━━━━━━━━\u001b[0m \u001b[32m532.9/532.9 kB\u001b[0m \u001b[31m4.6 MB/s\u001b[0m eta \u001b[36m0:00:00\u001b[0m\n",
            "\u001b[?25hRequirement already satisfied: numpy in /usr/local/lib/python3.10/dist-packages (from shap) (1.23.5)\n",
            "Requirement already satisfied: scipy in /usr/local/lib/python3.10/dist-packages (from shap) (1.11.4)\n",
            "Requirement already satisfied: scikit-learn in /usr/local/lib/python3.10/dist-packages (from shap) (1.2.2)\n",
            "Requirement already satisfied: pandas in /usr/local/lib/python3.10/dist-packages (from shap) (1.5.3)\n",
            "Requirement already satisfied: tqdm>=4.27.0 in /usr/local/lib/python3.10/dist-packages (from shap) (4.66.1)\n",
            "Requirement already satisfied: packaging>20.9 in /usr/local/lib/python3.10/dist-packages (from shap) (23.2)\n",
            "Collecting slicer==0.0.7 (from shap)\n",
            "  Downloading slicer-0.0.7-py3-none-any.whl (14 kB)\n",
            "Requirement already satisfied: numba in /usr/local/lib/python3.10/dist-packages (from shap) (0.58.1)\n",
            "Requirement already satisfied: cloudpickle in /usr/local/lib/python3.10/dist-packages (from shap) (2.2.1)\n",
            "Requirement already satisfied: llvmlite<0.42,>=0.41.0dev0 in /usr/local/lib/python3.10/dist-packages (from numba->shap) (0.41.1)\n",
            "Requirement already satisfied: python-dateutil>=2.8.1 in /usr/local/lib/python3.10/dist-packages (from pandas->shap) (2.8.2)\n",
            "Requirement already satisfied: pytz>=2020.1 in /usr/local/lib/python3.10/dist-packages (from pandas->shap) (2023.3.post1)\n",
            "Requirement already satisfied: joblib>=1.1.1 in /usr/local/lib/python3.10/dist-packages (from scikit-learn->shap) (1.3.2)\n",
            "Requirement already satisfied: threadpoolctl>=2.0.0 in /usr/local/lib/python3.10/dist-packages (from scikit-learn->shap) (3.2.0)\n",
            "Requirement already satisfied: six>=1.5 in /usr/local/lib/python3.10/dist-packages (from python-dateutil>=2.8.1->pandas->shap) (1.16.0)\n",
            "Installing collected packages: slicer, shap\n",
            "Successfully installed shap-0.43.0 slicer-0.0.7\n"
          ]
        }
      ]
    },
    {
      "cell_type": "code",
      "source": [
        "import shap\n",
        "# Create a background dataset for the explainer\n",
        "background_data = shap.maskers.Independent(X_train, max_samples=100)\n",
        "\n",
        "# Create a SHAP explainer using the background dataset\n",
        "explainer = shap.Explainer(my_custom_model, masker=background_data)\n",
        "\n",
        "# Calculate SHAP values for a sample of the data\n",
        "shap_values = explainer(X_train[:100])\n",
        "\n",
        "# Summarize the feature importance across all samples\n",
        "shap.summary_plot(shap_values, feature_names=[\"language_code\", \"num_pages\", \"ratings_count\", \"text_reviews_count\"])\n",
        "\n"
      ],
      "metadata": {
        "colab": {
          "base_uri": "https://localhost:8080/",
          "height": 316
        },
        "id": "6KEyQq1y4d4s",
        "outputId": "4955480c-ba5b-4b07-c5af-53065b347189"
      },
      "execution_count": null,
      "outputs": [
        {
          "output_type": "display_data",
          "data": {
            "text/plain": [
              "<Figure size 800x310 with 2 Axes>"
            ],
            "image/png": "[encoded data removed]"
          },
          "metadata": {}
        }
      ]
    },
    {
      "cell_type": "code",
      "source": [
        "from tensorflow.keras.models import load_model\n",
        "\n",
        "# Load the best model using the saved weights\n",
        "best_model = load_model(\"/content/best_weights.h5\")\n",
        "\n",
        "# Now you can use this best_model for further predictions\n",
        "y_pred = best_model.predict(X_test)\n",
        "\n"
      ],
      "metadata": {
        "colab": {
          "base_uri": "https://localhost:8080/"
        },
        "id": "PUKaMr-6Dj1x",
        "outputId": "269cb252-1d2e-4587-809b-2771b5c672cd"
      },
      "execution_count": null,
      "outputs": [
        {
          "output_type": "stream",
          "name": "stdout",
          "text": [
            "129/129 [==============================] - 0s 2ms/step\n"
          ]
        }
      ]
    },
    {
      "cell_type": "code",
      "source": [
        "y_pred_train= best_model.predict(X_train)"
      ],
      "metadata": {
        "colab": {
          "base_uri": "https://localhost:8080/"
        },
        "id": "e9SoQvCetjRB",
        "outputId": "9a09f239-6c9b-43cd-a181-d565a56298ab"
      },
      "execution_count": null,
      "outputs": [
        {
          "output_type": "stream",
          "name": "stdout",
          "text": [
            "300/300 [==============================] - 2s 6ms/step\n"
          ]
        }
      ]
    },
    {
      "cell_type": "code",
      "source": [
        "from sklearn.metrics import mean_squared_error, r2_score, explained_variance_score, mean_absolute_error\n",
        "\n",
        "def evaluate_regression(y_true, y_pred):\n",
        "    \"\"\"\n",
        "    Evaluate regression performance\n",
        "    \"\"\"\n",
        "    mse = mean_squared_error(y_true, y_pred)\n",
        "    rmse = mean_squared_error(y_true, y_pred, squared=False)\n",
        "    r2 = r2_score(y_true, y_pred)\n",
        "    explained_var = explained_variance_score(y_true, y_pred)\n",
        "    mae = mean_absolute_error(y_true, y_pred)\n",
        "\n",
        "    return {\n",
        "        'Mean Squared Error': mse,\n",
        "        'Root Mean Squared Error': rmse,\n",
        "        'R-squared': r2,\n",
        "        'Explained Variance Score': explained_var,\n",
        "        'Mean Absolute Error': mae\n",
        "    }"
      ],
      "metadata": {
        "id": "GvElf4K7EMw9"
      },
      "execution_count": null,
      "outputs": []
    },
    {
      "cell_type": "code",
      "source": [
        "# Assuming y_test is the true target values\n",
        "evaluation_results = evaluate_regression(y_test, y_pred)\n",
        "\n",
        "evaluation_results\n"
      ],
      "metadata": {
        "colab": {
          "base_uri": "https://localhost:8080/"
        },
        "id": "rqho3nWmEQqW",
        "outputId": "743138f9-0dc8-4343-eb1f-59a2017c7bdb"
      },
      "execution_count": null,
      "outputs": [
        {
          "output_type": "execute_result",
          "data": {
            "text/plain": [
              "{'Mean Squared Error': 0.12836682870446844,\n",
              " 'Root Mean Squared Error': 0.3582831683242578,\n",
              " 'R-squared': 0.04417064940503801,\n",
              " 'Explained Variance Score': 0.05143654861512437,\n",
              " 'Mean Absolute Error': 0.22769635591472193}"
            ]
          },
          "metadata": {},
          "execution_count": 40
        }
      ]
    },
    {
      "cell_type": "code",
      "source": [
        "import pandas as pd\n",
        "\n",
        "# Assuming you have your true labels in a DataFrame called 'df_test'\n",
        "df_test = pd.DataFrame({'true_average_rating': y_test})\n",
        "\n",
        "# Define bins and labels for classification\n",
        "bins = [-float('inf'), 2, 4, 5]\n",
        "labels = ['BAD', 'Medium', 'Good']\n",
        "\n",
        "# Create a new column 'true_class' based on the true average rating values\n",
        "df_test['true_class'] = pd.cut(df_test['true_average_rating'], bins=bins, labels=labels, include_lowest=True)"
      ],
      "metadata": {
        "id": "3sODgErCEiRZ"
      },
      "execution_count": null,
      "outputs": []
    },
    {
      "cell_type": "code",
      "source": [
        "import pandas as pd\n",
        "from sklearn.metrics import f1_score, jaccard_score, accuracy_score, recall_score, precision_score\n",
        "from sklearn.preprocessing import LabelEncoder\n",
        "\n",
        "def evaluate_classification(y_true, y_pred, df_test):\n",
        "    # Make a copy of the DataFrame to avoid modifying the original\n",
        "    df_test_copy = df_test.copy()\n",
        "\n",
        "    # Define bins and labels for classification\n",
        "    bins = [-float('inf'), 2, 4, float('inf')]\n",
        "    labels = ['BAD', 'Medium', 'Good']\n",
        "\n",
        "    # Assuming you have your predicted labels in a DataFrame called 'df_pred'\n",
        "    df_test_copy['predicted_average_rating'] = y_pred\n",
        "\n",
        "    # Create a new column 'predicted_class' based on the predicted average rating values\n",
        "    df_test_copy['predicted_class'] = pd.cut(df_test_copy['predicted_average_rating'], bins=bins, labels=labels, include_lowest=True)\n",
        "\n",
        "    # Use LabelEncoder to convert string labels to numerical labels\n",
        "    label_encoder = LabelEncoder()\n",
        "    df_test_copy['true_class'] = label_encoder.fit_transform(df_test_copy['true_class'])\n",
        "    df_test_copy['predicted_class'] = label_encoder.transform(df_test_copy['predicted_class'])\n",
        "\n",
        "    # Calculate evaluation metrics\n",
        "    f1 = f1_score(df_test_copy['true_class'], df_test_copy['predicted_class'], average='weighted')\n",
        "    jaccard = jaccard_score(df_test_copy['true_class'], df_test_copy['predicted_class'], average='weighted')\n",
        "    accuracy = accuracy_score(df_test_copy['true_class'], df_test_copy['predicted_class'])\n",
        "    recall = recall_score(df_test_copy['true_class'], df_test_copy['predicted_class'], average='weighted')\n",
        "    precision = precision_score(df_test_copy['true_class'], df_test_copy['predicted_class'], average='weighted')\n",
        "\n",
        "    return {'F1 Score': f1, 'Jaccard Score': jaccard, 'Accuracy Score': accuracy, 'Recall Score': recall, 'Precision Score': precision}\n"
      ],
      "metadata": {
        "id": "S380CAkyE4sB"
      },
      "execution_count": null,
      "outputs": []
    },
    {
      "cell_type": "code",
      "source": [
        "scores = evaluate_classification(df_test['true_class'], y_pred, df_test)\n",
        "scores"
      ],
      "metadata": {
        "colab": {
          "base_uri": "https://localhost:8080/"
        },
        "id": "zgsgtpl-E9ug",
        "outputId": "da9d0dc6-32c6-46fa-971b-dcd98479a15b"
      },
      "execution_count": null,
      "outputs": [
        {
          "output_type": "stream",
          "name": "stderr",
          "text": [
            "/usr/local/lib/python3.10/dist-packages/sklearn/metrics/_classification.py:1344: UndefinedMetricWarning: Precision is ill-defined and being set to 0.0 in labels with no predicted samples. Use `zero_division` parameter to control this behavior.\n",
            "  _warn_prf(average, modifier, msg_start, len(result))\n"
          ]
        },
        {
          "output_type": "execute_result",
          "data": {
            "text/plain": [
              "{'F1 Score': 0.5721752797568282,\n",
              " 'Jaccard Score': 0.419835422439523,\n",
              " 'Accuracy Score': 0.612636695018226,\n",
              " 'Recall Score': 0.612636695018226,\n",
              " 'Precision Score': 0.6108685504463576}"
            ]
          },
          "metadata": {},
          "execution_count": 43
        }
      ]
    },
    {
      "cell_type": "code",
      "source": [
        "import matplotlib.pyplot as plt\n",
        "\n",
        "# Regression Metrics\n",
        "regression_metrics = {\n",
        "    'Mean Squared Error': 0.12836682870446844,\n",
        "    'Root Mean Squared Error': 0.3582831683242578,\n",
        "    'R-squared': 0.04417064940503801,\n",
        "    'Explained Variance Score': 0.05143654861512437,\n",
        "    'Mean Absolute Error': 0.22769635591472193\n",
        "}\n",
        "\n",
        "# Classification Metrics\n",
        "classification_metrics = {\n",
        "\n",
        "}\n",
        "\n",
        "# Plotting Regression Metrics\n",
        "plt.figure(figsize=(10, 5))\n",
        "plt.bar(regression_metrics.keys(), regression_metrics.values(), color='blue')\n",
        "plt.title('Regression Metrics')\n",
        "plt.xlabel('Metrics')\n",
        "plt.ylabel('Values')\n",
        "plt.xticks(rotation=45)\n",
        "plt.show()\n",
        "\n",
        "# Plotting Classification Metrics\n",
        "plt.figure(figsize=(10, 5))\n",
        "plt.bar(classification_metrics.keys(), classification_metrics.values(), color='green')\n",
        "plt.title('Classification Metrics')\n",
        "plt.xlabel('Metrics')\n",
        "plt.ylabel('Values')\n",
        "plt.xticks(rotation=45)\n",
        "plt.show()\n"
      ],
      "metadata": {
        "colab": {
          "base_uri": "https://localhost:8080/",
          "height": 1000
        },
        "id": "zaM7oSx9lPlj",
        "outputId": "d1dbcb7b-70f4-45dc-a6da-e8f7029a9200"
      },
      "execution_count": 1,
      "outputs": [
        {
          "output_type": "display_data",
          "data": {
            "text/plain": [
              "<Figure size 1000x500 with 1 Axes>"
            ],
            "image/png": "[encoded data removed]"
          },
          "metadata": {}
        },
        {
          "output_type": "display_data",
          "data": {
            "text/plain": [
              "<Figure size 1000x500 with 1 Axes>"
            ],
            "image/png": "[encoded data removed]"
          },
          "metadata": {}
        }
      ]
    },
    {
      "cell_type": "markdown",
      "source": [
        "# Hybrid"
      ],
      "metadata": {
        "id": "yHpZ_VfphI8p"
      }
    },
    {
      "cell_type": "code",
      "source": [
        "new_df = df.copy()\n",
        "new_df['ANN_predictions'] = np.concatenate([y_pred_train, y_pred])"
      ],
      "metadata": {
        "id": "M7JmCPd3tgxv"
      },
      "execution_count": null,
      "outputs": []
    },
    {
      "cell_type": "code",
      "source": [
        "new_df"
      ],
      "metadata": {
        "colab": {
          "base_uri": "https://localhost:8080/",
          "height": 423
        },
        "id": "zSFS_eYyu6Kd",
        "outputId": "ef5c00b4-6e8a-429a-be1c-1cebf49591f8"
      },
      "execution_count": null,
      "outputs": [
        {
          "output_type": "execute_result",
          "data": {
            "text/plain": [
              "       average_rating  language_code  # num_pages  ratings_count  \\\n",
              "0                4.56              7          652        1944099   \n",
              "1                4.49              7          870        1996446   \n",
              "2                4.47              7          320        5629932   \n",
              "3                4.41              7          352           6267   \n",
              "4                4.55              7          435        2149872   \n",
              "...               ...            ...          ...            ...   \n",
              "13709            3.82              7          260          11317   \n",
              "13710            3.72              7          160           8710   \n",
              "13711            3.53              6          239          14334   \n",
              "13712            4.43              7          224           1550   \n",
              "13713            4.29              7          132           3572   \n",
              "\n",
              "       text_reviews_count  ANN_predictions  \n",
              "0                   26249         3.943498  \n",
              "1                   27613         3.943498  \n",
              "2                   70390         4.048030  \n",
              "3                     272         3.943498  \n",
              "4                   33964         3.943498  \n",
              "...                   ...              ...  \n",
              "13709                1060         3.943498  \n",
              "13710                 361         3.953785  \n",
              "13711                1485         3.943498  \n",
              "13712                  38         3.943498  \n",
              "13713                  33         3.977381  \n",
              "\n",
              "[13714 rows x 6 columns]"
            ],
            "text/html": [
              "\n",
              "  <div id=\"df-9d6f0932-a5c9-49c5-ad51-2192fa3caade\" class=\"colab-df-container\">\n",
              "    <div>\n",
              "<style scoped>\n",
              "    .dataframe tbody tr th:only-of-type {\n",
              "        vertical-align: middle;\n",
              "    }\n",
              "\n",
              "    .dataframe tbody tr th {\n",
              "        vertical-align: top;\n",
              "    }\n",
              "\n",
              "    .dataframe thead th {\n",
              "        text-align: right;\n",
              "    }\n",
              "</style>\n",
              "<table border=\"1\" class=\"dataframe\">\n",
              "  <thead>\n",
              "    <tr style=\"text-align: right;\">\n",
              "      <th></th>\n",
              "      <th>average_rating</th>\n",
              "      <th>language_code</th>\n",
              "      <th># num_pages</th>\n",
              "      <th>ratings_count</th>\n",
              "      <th>text_reviews_count</th>\n",
              "      <th>ANN_predictions</th>\n",
              "    </tr>\n",
              "  </thead>\n",
              "  <tbody>\n",
              "    <tr>\n",
              "      <th>0</th>\n",
              "      <td>4.56</td>\n",
              "      <td>7</td>\n",
              "      <td>652</td>\n",
              "      <td>1944099</td>\n",
              "      <td>26249</td>\n",
              "      <td>3.943498</td>\n",
              "    </tr>\n",
              "    <tr>\n",
              "      <th>1</th>\n",
              "      <td>4.49</td>\n",
              "      <td>7</td>\n",
              "      <td>870</td>\n",
              "      <td>1996446</td>\n",
              "      <td>27613</td>\n",
              "      <td>3.943498</td>\n",
              "    </tr>\n",
              "    <tr>\n",
              "      <th>2</th>\n",
              "      <td>4.47</td>\n",
              "      <td>7</td>\n",
              "      <td>320</td>\n",
              "      <td>5629932</td>\n",
              "      <td>70390</td>\n",
              "      <td>4.048030</td>\n",
              "    </tr>\n",
              "    <tr>\n",
              "      <th>3</th>\n",
              "      <td>4.41</td>\n",
              "      <td>7</td>\n",
              "      <td>352</td>\n",
              "      <td>6267</td>\n",
              "      <td>272</td>\n",
              "      <td>3.943498</td>\n",
              "    </tr>\n",
              "    <tr>\n",
              "      <th>4</th>\n",
              "      <td>4.55</td>\n",
              "      <td>7</td>\n",
              "      <td>435</td>\n",
              "      <td>2149872</td>\n",
              "      <td>33964</td>\n",
              "      <td>3.943498</td>\n",
              "    </tr>\n",
              "    <tr>\n",
              "      <th>...</th>\n",
              "      <td>...</td>\n",
              "      <td>...</td>\n",
              "      <td>...</td>\n",
              "      <td>...</td>\n",
              "      <td>...</td>\n",
              "      <td>...</td>\n",
              "    </tr>\n",
              "    <tr>\n",
              "      <th>13709</th>\n",
              "      <td>3.82</td>\n",
              "      <td>7</td>\n",
              "      <td>260</td>\n",
              "      <td>11317</td>\n",
              "      <td>1060</td>\n",
              "      <td>3.943498</td>\n",
              "    </tr>\n",
              "    <tr>\n",
              "      <th>13710</th>\n",
              "      <td>3.72</td>\n",
              "      <td>7</td>\n",
              "      <td>160</td>\n",
              "      <td>8710</td>\n",
              "      <td>361</td>\n",
              "      <td>3.953785</td>\n",
              "    </tr>\n",
              "    <tr>\n",
              "      <th>13711</th>\n",
              "      <td>3.53</td>\n",
              "      <td>6</td>\n",
              "      <td>239</td>\n",
              "      <td>14334</td>\n",
              "      <td>1485</td>\n",
              "      <td>3.943498</td>\n",
              "    </tr>\n",
              "    <tr>\n",
              "      <th>13712</th>\n",
              "      <td>4.43</td>\n",
              "      <td>7</td>\n",
              "      <td>224</td>\n",
              "      <td>1550</td>\n",
              "      <td>38</td>\n",
              "      <td>3.943498</td>\n",
              "    </tr>\n",
              "    <tr>\n",
              "      <th>13713</th>\n",
              "      <td>4.29</td>\n",
              "      <td>7</td>\n",
              "      <td>132</td>\n",
              "      <td>3572</td>\n",
              "      <td>33</td>\n",
              "      <td>3.977381</td>\n",
              "    </tr>\n",
              "  </tbody>\n",
              "</table>\n",
              "<p>13714 rows × 6 columns</p>\n",
              "</div>\n",
              "    <div class=\"colab-df-buttons\">\n",
              "\n",
              "  <div class=\"colab-df-container\">\n",
              "    <button class=\"colab-df-convert\" onclick=\"convertToInteractive('df-9d6f0932-a5c9-49c5-ad51-2192fa3caade')\"\n",
              "            title=\"Convert this dataframe to an interactive table.\"\n",
              "            style=\"display:none;\">\n",
              "\n",
              "  <svg xmlns=\"http://www.w3.org/2000/svg\" height=\"24px\" viewBox=\"0 -960 960 960\">\n",
              "    <path d=\"M120-120v-720h720v720H120Zm60-500h600v-160H180v160Zm220 220h160v-160H400v160Zm0 220h160v-160H400v160ZM180-400h160v-160H180v160Zm440 0h160v-160H620v160ZM180-180h160v-160H180v160Zm440 0h160v-160H620v160Z\"/>\n",
              "  </svg>\n",
              "    </button>\n",
              "\n",
              "  <style>\n",
              "    .colab-df-container {\n",
              "      display:flex;\n",
              "      gap: 12px;\n",
              "    }\n",
              "\n",
              "    .colab-df-convert {\n",
              "      background-color: #E8F0FE;\n",
              "      border: none;\n",
              "      border-radius: 50%;\n",
              "      cursor: pointer;\n",
              "      display: none;\n",
              "      fill: #1967D2;\n",
              "      height: 32px;\n",
              "      padding: 0 0 0 0;\n",
              "      width: 32px;\n",
              "    }\n",
              "\n",
              "    .colab-df-convert:hover {\n",
              "      background-color: #E2EBFA;\n",
              "      box-shadow: 0px 1px 2px rgba(60, 64, 67, 0.3), 0px 1px 3px 1px rgba(60, 64, 67, 0.15);\n",
              "      fill: #174EA6;\n",
              "    }\n",
              "\n",
              "    .colab-df-buttons div {\n",
              "      margin-bottom: 4px;\n",
              "    }\n",
              "\n",
              "    [theme=dark] .colab-df-convert {\n",
              "      background-color: #3B4455;\n",
              "      fill: #D2E3FC;\n",
              "    }\n",
              "\n",
              "    [theme=dark] .colab-df-convert:hover {\n",
              "      background-color: #434B5C;\n",
              "      box-shadow: 0px 1px 3px 1px rgba(0, 0, 0, 0.15);\n",
              "      filter: drop-shadow(0px 1px 2px rgba(0, 0, 0, 0.3));\n",
              "      fill: #FFFFFF;\n",
              "    }\n",
              "  </style>\n",
              "\n",
              "    <script>\n",
              "      const buttonEl =\n",
              "        document.querySelector('#df-9d6f0932-a5c9-49c5-ad51-2192fa3caade button.colab-df-convert');\n",
              "      buttonEl.style.display =\n",
              "        google.colab.kernel.accessAllowed ? 'block' : 'none';\n",
              "\n",
              "      async function convertToInteractive(key) {\n",
              "        const element = document.querySelector('#df-9d6f0932-a5c9-49c5-ad51-2192fa3caade');\n",
              "        const dataTable =\n",
              "          await google.colab.kernel.invokeFunction('convertToInteractive',\n",
              "                                                    [key], {});\n",
              "        if (!dataTable) return;\n",
              "\n",
              "        const docLinkHtml = 'Like what you see? Visit the ' +\n",
              "          '<a target=\"_blank\" href=https://colab.research.google.com/notebooks/data_table.ipynb>data table notebook</a>'\n",
              "          + ' to learn more about interactive tables.';\n",
              "        element.innerHTML = '';\n",
              "        dataTable['output_type'] = 'display_data';\n",
              "        await google.colab.output.renderOutput(dataTable, element);\n",
              "        const docLink = document.createElement('div');\n",
              "        docLink.innerHTML = docLinkHtml;\n",
              "        element.appendChild(docLink);\n",
              "      }\n",
              "    </script>\n",
              "  </div>\n",
              "\n",
              "\n",
              "<div id=\"df-404cb0a7-3e38-4619-a7a0-ce9b4829b740\">\n",
              "  <button class=\"colab-df-quickchart\" onclick=\"quickchart('df-404cb0a7-3e38-4619-a7a0-ce9b4829b740')\"\n",
              "            title=\"Suggest charts\"\n",
              "            style=\"display:none;\">\n",
              "\n",
              "<svg xmlns=\"http://www.w3.org/2000/svg\" height=\"24px\"viewBox=\"0 0 24 24\"\n",
              "     width=\"24px\">\n",
              "    <g>\n",
              "        <path d=\"M19 3H5c-1.1 0-2 .9-2 2v14c0 1.1.9 2 2 2h14c1.1 0 2-.9 2-2V5c0-1.1-.9-2-2-2zM9 17H7v-7h2v7zm4 0h-2V7h2v10zm4 0h-2v-4h2v4z\"/>\n",
              "    </g>\n",
              "</svg>\n",
              "  </button>\n",
              "\n",
              "<style>\n",
              "  .colab-df-quickchart {\n",
              "      --bg-color: #E8F0FE;\n",
              "      --fill-color: #1967D2;\n",
              "      --hover-bg-color: #E2EBFA;\n",
              "      --hover-fill-color: #174EA6;\n",
              "      --disabled-fill-color: #AAA;\n",
              "      --disabled-bg-color: #DDD;\n",
              "  }\n",
              "\n",
              "  [theme=dark] .colab-df-quickchart {\n",
              "      --bg-color: #3B4455;\n",
              "      --fill-color: #D2E3FC;\n",
              "      --hover-bg-color: #434B5C;\n",
              "      --hover-fill-color: #FFFFFF;\n",
              "      --disabled-bg-color: #3B4455;\n",
              "      --disabled-fill-color: #666;\n",
              "  }\n",
              "\n",
              "  .colab-df-quickchart {\n",
              "    background-color: var(--bg-color);\n",
              "    border: none;\n",
              "    border-radius: 50%;\n",
              "    cursor: pointer;\n",
              "    display: none;\n",
              "    fill: var(--fill-color);\n",
              "    height: 32px;\n",
              "    padding: 0;\n",
              "    width: 32px;\n",
              "  }\n",
              "\n",
              "  .colab-df-quickchart:hover {\n",
              "    background-color: var(--hover-bg-color);\n",
              "    box-shadow: 0 1px 2px rgba(60, 64, 67, 0.3), 0 1px 3px 1px rgba(60, 64, 67, 0.15);\n",
              "    fill: var(--button-hover-fill-color);\n",
              "  }\n",
              "\n",
              "  .colab-df-quickchart-complete:disabled,\n",
              "  .colab-df-quickchart-complete:disabled:hover {\n",
              "    background-color: var(--disabled-bg-color);\n",
              "    fill: var(--disabled-fill-color);\n",
              "    box-shadow: none;\n",
              "  }\n",
              "\n",
              "  .colab-df-spinner {\n",
              "    border: 2px solid var(--fill-color);\n",
              "    border-color: transparent;\n",
              "    border-bottom-color: var(--fill-color);\n",
              "    animation:\n",
              "      spin 1s steps(1) infinite;\n",
              "  }\n",
              "\n",
              "  @keyframes spin {\n",
              "    0% {\n",
              "      border-color: transparent;\n",
              "      border-bottom-color: var(--fill-color);\n",
              "      border-left-color: var(--fill-color);\n",
              "    }\n",
              "    20% {\n",
              "      border-color: transparent;\n",
              "      border-left-color: var(--fill-color);\n",
              "      border-top-color: var(--fill-color);\n",
              "    }\n",
              "    30% {\n",
              "      border-color: transparent;\n",
              "      border-left-color: var(--fill-color);\n",
              "      border-top-color: var(--fill-color);\n",
              "      border-right-color: var(--fill-color);\n",
              "    }\n",
              "    40% {\n",
              "      border-color: transparent;\n",
              "      border-right-color: var(--fill-color);\n",
              "      border-top-color: var(--fill-color);\n",
              "    }\n",
              "    60% {\n",
              "      border-color: transparent;\n",
              "      border-right-color: var(--fill-color);\n",
              "    }\n",
              "    80% {\n",
              "      border-color: transparent;\n",
              "      border-right-color: var(--fill-color);\n",
              "      border-bottom-color: var(--fill-color);\n",
              "    }\n",
              "    90% {\n",
              "      border-color: transparent;\n",
              "      border-bottom-color: var(--fill-color);\n",
              "    }\n",
              "  }\n",
              "</style>\n",
              "\n",
              "  <script>\n",
              "    async function quickchart(key) {\n",
              "      const quickchartButtonEl =\n",
              "        document.querySelector('#' + key + ' button');\n",
              "      quickchartButtonEl.disabled = true;  // To prevent multiple clicks.\n",
              "      quickchartButtonEl.classList.add('colab-df-spinner');\n",
              "      try {\n",
              "        const charts = await google.colab.kernel.invokeFunction(\n",
              "            'suggestCharts', [key], {});\n",
              "      } catch (error) {\n",
              "        console.error('Error during call to suggestCharts:', error);\n",
              "      }\n",
              "      quickchartButtonEl.classList.remove('colab-df-spinner');\n",
              "      quickchartButtonEl.classList.add('colab-df-quickchart-complete');\n",
              "    }\n",
              "    (() => {\n",
              "      let quickchartButtonEl =\n",
              "        document.querySelector('#df-404cb0a7-3e38-4619-a7a0-ce9b4829b740 button');\n",
              "      quickchartButtonEl.style.display =\n",
              "        google.colab.kernel.accessAllowed ? 'block' : 'none';\n",
              "    })();\n",
              "  </script>\n",
              "</div>\n",
              "    </div>\n",
              "  </div>\n"
            ]
          },
          "metadata": {},
          "execution_count": 23
        }
      ]
    },
    {
      "cell_type": "code",
      "source": [
        "import pandas as pd\n",
        "\n",
        "bins = [-float('inf'), 2, 4, 5]\n",
        "labels = ['BAD', 'Medium', 'Good']\n",
        "\n",
        "new_df['class'] = pd.cut(new_df['average_rating'], bins=bins, labels=labels, include_lowest=True)\n"
      ],
      "metadata": {
        "id": "WVRTRMwVpb54"
      },
      "execution_count": null,
      "outputs": []
    },
    {
      "cell_type": "code",
      "source": [
        "new_df = new_df.drop(\"average_rating\", axis=1)\n",
        "\n",
        "from sklearn.preprocessing import LabelEncoder"
      ],
      "metadata": {
        "id": "z99BXC4qvxsa"
      },
      "execution_count": null,
      "outputs": []
    },
    {
      "cell_type": "code",
      "source": [
        "encoder = LabelEncoder()\n",
        "new_df['class'] = encoder.fit_transform(new_df['class'])"
      ],
      "metadata": {
        "id": "-rs6iBV3wFzo"
      },
      "execution_count": null,
      "outputs": []
    },
    {
      "cell_type": "code",
      "source": [
        "from sklearn.svm import SVC\n",
        "from sklearn.preprocessing import StandardScaler\n",
        "from sklearn.model_selection import train_test_split\n",
        "df_attributes = new_df.drop(\"class\", axis=1)\n",
        "\n",
        "# Standardizing the features using StandardScaler\n",
        "df_scaled = StandardScaler().fit_transform(df_attributes)\n",
        "\n",
        "# Separating features and target variable\n",
        "X_train, X_test, y_train, y_test = train_test_split(df_scaled, new_df['class'], test_size=0.3)\n",
        "from sklearn.metrics import f1_score, jaccard_score, accuracy_score, recall_score, precision_score\n",
        "\n",
        "\n",
        "# Create an SVM Classifier with RBF kernel\n",
        "svm_classifier = SVC(kernel='rbf')\n",
        "\n",
        "# Fit the classifier to the training data\n",
        "svm_classifier.fit(X_train, y_train)\n",
        "\n",
        "# Make predictions on the test set\n",
        "y_pred = svm_classifier.predict(X_test)\n",
        "\n",
        "\n",
        "# Calculate metrics\n",
        "f1 = f1_score(y_test, y_pred, average='weighted')\n",
        "jaccard = jaccard_score(y_test, y_pred, average='weighted')\n",
        "accuracy = accuracy_score(y_test, y_pred)\n",
        "recall = recall_score(y_test, y_pred, average='weighted')\n",
        "precision = precision_score(y_test, y_pred, average='weighted')\n",
        "\n",
        "# Print metrics\n",
        "print('Weighted F1 Score:', f1)\n",
        "print('Weighted Jaccard Coefficient:', jaccard)\n",
        "print('Accuracy:', accuracy)\n",
        "print('Weighted Recall:', recall)\n",
        "print('Weighted Precision:', precision)"
      ],
      "metadata": {
        "colab": {
          "base_uri": "https://localhost:8080/"
        },
        "id": "xM6DxyIRvqs8",
        "outputId": "151b1ac5-fc4d-4488-e07d-eecced310792"
      },
      "execution_count": null,
      "outputs": [
        {
          "output_type": "stream",
          "name": "stdout",
          "text": [
            "Weighted F1 Score: 0.5508955077117833\n",
            "Weighted Jaccard Coefficient: 0.4104514302958339\n",
            "Accuracy: 0.616767922235723\n",
            "Weighted Recall: 0.616767922235723\n",
            "Weighted Precision: 0.6291023591384703\n"
          ]
        },
        {
          "output_type": "stream",
          "name": "stderr",
          "text": [
            "/usr/local/lib/python3.10/dist-packages/sklearn/metrics/_classification.py:1344: UndefinedMetricWarning: Precision is ill-defined and being set to 0.0 in labels with no predicted samples. Use `zero_division` parameter to control this behavior.\n",
            "  _warn_prf(average, modifier, msg_start, len(result))\n"
          ]
        }
      ]
    },
    {
      "cell_type": "code",
      "source": [
        "import matplotlib.pyplot as plt\n",
        "\n",
        "# Classification Metrics\n",
        "classification_metrics = {\n",
        "    'Weighted F1 Score': 0.5508955077117833,\n",
        "    'Weighted Jaccard Coefficient': 0.4104514302958339,\n",
        "    'Accuracy': 0.616767922235723,\n",
        "    'Weighted Recall': 0.616767922235723,\n",
        "    'Weighted Precision': 0.6291023591384703\n",
        "}\n",
        "\n",
        "# Plotting Classification Metrics\n",
        "plt.figure(figsize=(10, 5))\n",
        "plt.bar(classification_metrics.keys(), classification_metrics.values(), color='purple')\n",
        "plt.title('Hybrid Classification Metrics')\n",
        "plt.xlabel('Metrics')\n",
        "plt.ylabel('Values')\n",
        "plt.xticks(rotation=45)\n",
        "plt.show()\n"
      ],
      "metadata": {
        "colab": {
          "base_uri": "https://localhost:8080/",
          "height": 625
        },
        "id": "FrH7P3WKr2L-",
        "outputId": "dbbd4df2-7df5-4747-f709-3ada819909a5"
      },
      "execution_count": 3,
      "outputs": [
        {
          "output_type": "display_data",
          "data": {
            "text/plain": [
              "<Figure size 1000x500 with 1 Axes>"
            ],
            "image/png": "[encoded data removed]"
          },
          "metadata": {}
        }
      ]
    }
  ],
  "metadata": {
    "colab": {
      "provenance": [],
      "collapsed_sections": [
        "mujspvFfTLni",
        "xIJZL-JeN7CQ",
        "CS0npq5KDNST",
        "tQPbet-KzPw1",
        "yHpZ_VfphI8p"
      ]
    },
    "kernelspec": {
      "display_name": "Python 3",
      "name": "python3"
    },
    "language_info": {
      "name": "python"
    }
  },
  "nbformat": 4,
  "nbformat_minor": 0
}